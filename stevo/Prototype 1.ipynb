{
 "cells": [
  {
   "cell_type": "code",
   "execution_count": 8,
   "id": "a757db38",
   "metadata": {},
   "outputs": [],
   "source": [
    "#Import the required libraries\n",
    "import os\n",
    "import pandas as pd"
   ]
  },
  {
   "cell_type": "code",
   "execution_count": 9,
   "id": "137e0a0e",
   "metadata": {},
   "outputs": [],
   "source": [
    "#Read the files required for processing\n",
    "\n",
    "data = pd.read_csv('Post_2016/01.01.2017/Models/Basys/Output/NB_CF/Convertible_1.csv')\n",
    "columns_mapping = pd.read_excel('columns mapping_basys output to final output.xlsx',sheet_name='Sheet1')\n"
   ]
  },
  {
   "cell_type": "code",
   "execution_count": 10,
   "id": "07ab2573",
   "metadata": {},
   "outputs": [],
   "source": [
    "#merge the two files\n",
    "\n",
    "merged_data = data.merge(columns_mapping,on='ifrs_cf_group',how='left')\n"
   ]
  },
  {
   "cell_type": "code",
   "execution_count": 11,
   "id": "894916c8",
   "metadata": {},
   "outputs": [],
   "source": [
    "#Drop the unnecessary fields and only remain with the required fields\n",
    "\n",
    "columns_desired=['valuation_period', 'ifrs_group_code',\n",
    "       'ifrs_cf_group', 'pv_cf', 'ifrs_ra', 'exp_cf(12mths)','pv_cf_finalmapping', 'ifrs_ra_finalmapping',\n",
    "       'exp_cf(12mths)_finalmapping']\n",
    "\n",
    "data_rqd_cols= merged_data.loc[:,columns_desired]\n"
   ]
  },
  {
   "cell_type": "code",
   "execution_count": 12,
   "id": "dd50563c",
   "metadata": {},
   "outputs": [],
   "source": [
    "#group data into the required formats\n",
    "\n",
    "grouped_data_1 = data_rqd_cols.groupby([\"ifrs_group_code\",\"pv_cf_finalmapping\"]).sum()\n",
    "grouped_data_2 = data_rqd_cols.groupby([\"ifrs_group_code\",\"exp_cf(12mths)_finalmapping\"]).sum()"
   ]
  },
  {
   "cell_type": "code",
   "execution_count": 13,
   "id": "30426521",
   "metadata": {},
   "outputs": [],
   "source": [
    "#drop the indexes\n",
    "reset_data_1 = grouped_data_1.reset_index()\n",
    "reset_data_2 = grouped_data_2.reset_index()\n",
    "\n",
    "#group_by again and merge\n",
    "grouped_data3=reset_data_1.pivot_table(values='pv_cf',index='ifrs_group_code',columns='pv_cf_finalmapping',aggfunc='sum')\n",
    "grouped_data4 =reset_data_2.pivot_table(values='exp_cf(12mths)',index='ifrs_group_code',columns='exp_cf(12mths)_finalmapping',aggfunc='sum')"
   ]
  },
  {
   "cell_type": "code",
   "execution_count": 14,
   "id": "ab48daf8",
   "metadata": {},
   "outputs": [],
   "source": [
    "#final data - two dfs are merged\n",
    "\n",
    "final_data=grouped_data3.merge(grouped_data4,on=\"ifrs_group_code\",how=\"inner\")\n"
   ]
  },
  {
   "cell_type": "code",
   "execution_count": 15,
   "id": "fd8a4fa9",
   "metadata": {},
   "outputs": [],
   "source": [
    "#putting final data in required column format\n",
    "\n",
    "desired_columns = ['pv_cfs_out', 'pv_cfs_in','pv_cfs_acq','bel_det_gross_if / _new', \n",
    "                   'premium_acc','ins_services_acc', 'INS_EXPENSE_ACC',\n",
    "                   'ins_acq_expense_acc','int_acc','bel_det_gross_exp_eop','int_acc','bel_det_gross_exp_eop']\n",
    "\n",
    "final_data_desired_format = final_data[desired_columns]\n"
   ]
  },
  {
   "cell_type": "code",
   "execution_count": 16,
   "id": "623b0f68",
   "metadata": {},
   "outputs": [],
   "source": [
    "#output to excel\n",
    "\n",
    "final_data_desired_format.to_excel('output.xlsx')"
   ]
  },
  {
   "cell_type": "code",
   "execution_count": null,
   "id": "cc202c2a",
   "metadata": {},
   "outputs": [],
   "source": []
  },
  {
   "cell_type": "code",
   "execution_count": null,
   "id": "567c336a",
   "metadata": {},
   "outputs": [],
   "source": []
  }
 ],
 "metadata": {
  "kernelspec": {
   "display_name": "Python 3 (ipykernel)",
   "language": "python",
   "name": "python3"
  },
  "language_info": {
   "codemirror_mode": {
    "name": "ipython",
    "version": 3
   },
   "file_extension": ".py",
   "mimetype": "text/x-python",
   "name": "python",
   "nbconvert_exporter": "python",
   "pygments_lexer": "ipython3",
   "version": "3.10.4"
  }
 },
 "nbformat": 4,
 "nbformat_minor": 5
}
