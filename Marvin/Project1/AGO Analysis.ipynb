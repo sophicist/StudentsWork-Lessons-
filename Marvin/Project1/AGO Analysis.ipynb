{
 "cells": [
  {
   "cell_type": "markdown",
   "id": "c5b2fee1",
   "metadata": {},
   "source": [
    "## <font color = \"purple\"> Exploratory Data Analysis </font>"
   ]
  },
  {
   "cell_type": "code",
   "execution_count": 1,
   "id": "434c53bb",
   "metadata": {},
   "outputs": [],
   "source": [
    "# Import libaries \n",
    "import pandas as pd\n",
    "import os"
   ]
  },
  {
   "cell_type": "code",
   "execution_count": 2,
   "id": "47bc8af8",
   "metadata": {},
   "outputs": [
    {
     "name": "stdout",
     "output_type": "stream",
     "text": [
      "['JANUARY 2015', 'FEBRUARY 2015', 'MARCH 2015', 'APRIL 2015', 'MAY 2015', 'JUNE 2015', 'JULY 2015', 'AUGUST 2015', 'SEPTEMBER 2015']\n"
     ]
    },
    {
     "data": {
      "text/html": [
       "<div>\n",
       "<style scoped>\n",
       "    .dataframe tbody tr th:only-of-type {\n",
       "        vertical-align: middle;\n",
       "    }\n",
       "\n",
       "    .dataframe tbody tr th {\n",
       "        vertical-align: top;\n",
       "    }\n",
       "\n",
       "    .dataframe thead th {\n",
       "        text-align: right;\n",
       "    }\n",
       "</style>\n",
       "<table border=\"1\" class=\"dataframe\">\n",
       "  <thead>\n",
       "    <tr style=\"text-align: right;\">\n",
       "      <th></th>\n",
       "      <th>DATE</th>\n",
       "      <th>SALES</th>\n",
       "    </tr>\n",
       "  </thead>\n",
       "  <tbody>\n",
       "    <tr>\n",
       "      <th>27</th>\n",
       "      <td>2015-01-27</td>\n",
       "      <td>6870.83</td>\n",
       "    </tr>\n",
       "    <tr>\n",
       "      <th>28</th>\n",
       "      <td>2015-01-28</td>\n",
       "      <td>6042.06</td>\n",
       "    </tr>\n",
       "    <tr>\n",
       "      <th>29</th>\n",
       "      <td>2015-01-29</td>\n",
       "      <td>5947.24</td>\n",
       "    </tr>\n",
       "    <tr>\n",
       "      <th>30</th>\n",
       "      <td>2015-01-30</td>\n",
       "      <td>6324.38</td>\n",
       "    </tr>\n",
       "    <tr>\n",
       "      <th>31</th>\n",
       "      <td>2015-01-31</td>\n",
       "      <td>4880.65</td>\n",
       "    </tr>\n",
       "  </tbody>\n",
       "</table>\n",
       "</div>"
      ],
      "text/plain": [
       "         DATE    SALES\n",
       "27 2015-01-27  6870.83\n",
       "28 2015-01-28  6042.06\n",
       "29 2015-01-29  5947.24\n",
       "30 2015-01-30  6324.38\n",
       "31 2015-01-31  4880.65"
      ]
     },
     "execution_count": 2,
     "metadata": {},
     "output_type": "execute_result"
    }
   ],
   "source": [
    "# Read the data\n",
    "os.listdir(\"data\")\n",
    "df = pd.ExcelFile(\"data/AGO STOCK MOVEMENT 2015.xlsx\")\n",
    "print(df.sheet_names)\n",
    "\n",
    "# January data\n",
    "jan = pd.read_excel(df, \"JANUARY 2015\", skiprows=5)\n",
    "jan = jan[[\"DATE\", \"SALES\"]]\n",
    "jan = jan.iloc[0:32,:]\n",
    "jan.tail()"
   ]
  },
  {
   "cell_type": "code",
   "execution_count": 3,
   "id": "152588e6",
   "metadata": {},
   "outputs": [
    {
     "data": {
      "text/plain": [
       "(61, 2)"
      ]
     },
     "execution_count": 3,
     "metadata": {},
     "output_type": "execute_result"
    }
   ],
   "source": [
    "# February data\n",
    "feb = pd.read_excel(df, \"FEBRUARY 2015\", skiprows=5)\n",
    "feb = feb[[\"DATE\",\"SALES\"]]\n",
    "feb = feb.iloc[0:29,:]\n",
    "feb.head()\n",
    "# Concatinating the two\n",
    "final= pd.concat([jan, feb])\n",
    "final.shape"
   ]
  },
  {
   "cell_type": "code",
   "execution_count": 4,
   "id": "7042b5dc",
   "metadata": {
    "scrolled": true
   },
   "outputs": [
    {
     "name": "stdout",
     "output_type": "stream",
     "text": [
      "Cleaned data for JANUARY 2015:\n",
      "        DATE    SALES\n",
      "0        NaT      NaN\n",
      "1 2015-01-01  3171.43\n",
      "2 2015-01-02  3843.45\n",
      "3 2015-01-03  3556.74\n",
      "4 2015-01-04  3482.36\n",
      "Cleaned data for FEBRUARY 2015:\n",
      "        DATE    SALES\n",
      "0        NaT      NaN\n",
      "1 2015-02-01  3843.45\n",
      "2 2015-02-02  6123.17\n",
      "3 2015-02-03  6230.18\n",
      "4 2015-02-04  6190.34\n",
      "Cleaned data for MARCH 2015:\n",
      "        DATE    SALES\n",
      "0        NaT      NaN\n",
      "1 2015-03-01  4161.81\n",
      "2 2015-03-02  5870.90\n",
      "3 2015-03-03  7548.27\n",
      "4 2015-03-04  6504.96\n",
      "Cleaned data for APRIL 2015:\n",
      "        DATE    SALES\n",
      "0        NaT      NaN\n",
      "1 2015-04-01  6299.96\n",
      "2 2015-04-02  6131.55\n",
      "3 2015-04-03  4756.41\n",
      "4 2015-04-04  4300.30\n",
      "Cleaned data for MAY 2015:\n",
      "        DATE    SALES\n",
      "0        NaT      NaN\n",
      "1 2015-05-01  4388.42\n",
      "2 2015-05-02  5265.14\n",
      "3 2015-05-03  4013.05\n",
      "4 2015-05-04  6162.80\n",
      "Cleaned data for JUNE 2015:\n",
      "                  DATE    SALES\n",
      "0                  NaN      NaN\n",
      "1  2015-06-01 00:00:00  5406.31\n",
      "2  2015-06-02 00:00:00  6971.26\n",
      "3  2015-06-03 00:00:00  8070.08\n",
      "4  2015-06-04 00:00:00  6634.59\n",
      "Cleaned data for JULY 2015:\n",
      "                  DATE    SALES\n",
      "0                  NaN      NaN\n",
      "1  2015-07-01 00:00:00  7118.63\n",
      "2  2015-07-02 00:00:00  6962.82\n",
      "3  2015-07-03 00:00:00  6078.78\n",
      "4  2015-07-04 00:00:00  5965.71\n",
      "Cleaned data for AUGUST 2015:\n",
      "                  DATE    SALES\n",
      "0                  NaN      NaN\n",
      "1  2015-08-01 00:00:00  4902.09\n",
      "2  2015-08-02 00:00:00  4113.77\n",
      "3  2015-08-03 00:00:00  6673.58\n",
      "4  2015-08-04 00:00:00  6903.88\n",
      "Cleaned data for SEPTEMBER 2015:\n",
      "                  DATE    SALES\n",
      "0                  NaN      NaN\n",
      "1  2015-08-01 00:00:00  7280.22\n",
      "2  2015-08-02 00:00:00   6346.7\n",
      "3  2015-08-03 00:00:00  6035.29\n",
      "4  2015-08-04 00:00:00  6242.08\n"
     ]
    }
   ],
   "source": [
    "# Using a for loop to concatenate the sheets\n",
    "# Define the sheet names\n",
    "\n",
    "file_path = \"data/AGO STOCK MOVEMENT 2015.xlsx\"\n",
    "sheet_names = ['JANUARY 2015', 'FEBRUARY 2015', 'MARCH 2015', 'APRIL 2015', 'MAY 2015', 'JUNE 2015', 'JULY 2015', 'AUGUST 2015', 'SEPTEMBER 2015']\n",
    "\n",
    "# Loop through the sheets\n",
    "for sheet_name in sheet_names:\n",
    "    df = pd.read_excel(file_path, sheet_name, skiprows=5)\n",
    "    df = df[[\"DATE\", \"SALES\"]].iloc[0:32,:]\n",
    "    \n",
    "    print(f\"Cleaned data for {sheet_name}:\")\n",
    "    print(df.head())"
   ]
  },
  {
   "cell_type": "code",
   "execution_count": null,
   "id": "eaa811d5",
   "metadata": {},
   "outputs": [],
   "source": []
  }
 ],
 "metadata": {
  "kernelspec": {
   "display_name": "Python 3 (ipykernel)",
   "language": "python",
   "name": "python3"
  },
  "language_info": {
   "codemirror_mode": {
    "name": "ipython",
    "version": 3
   },
   "file_extension": ".py",
   "mimetype": "text/x-python",
   "name": "python",
   "nbconvert_exporter": "python",
   "pygments_lexer": "ipython3",
   "version": "3.10.4"
  }
 },
 "nbformat": 4,
 "nbformat_minor": 5
}
