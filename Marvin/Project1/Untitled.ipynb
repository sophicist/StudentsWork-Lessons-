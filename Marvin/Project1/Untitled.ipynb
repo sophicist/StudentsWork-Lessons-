{
 "cells": [
  {
   "cell_type": "code",
   "execution_count": 1,
   "id": "51207071",
   "metadata": {},
   "outputs": [],
   "source": [
    "# Import libaries \n",
    "import pandas as pd\n",
    "import os"
   ]
  },
  {
   "cell_type": "code",
   "execution_count": 11,
   "id": "9a7082bd",
   "metadata": {},
   "outputs": [
    {
     "name": "stdout",
     "output_type": "stream",
     "text": [
      "['JANUARY 2015', 'FEBRUARY 2015', 'MARCH 2015', 'APRIL 2015', 'MAY 2015', 'JUNE 2015', 'JULY 2015', 'AUGUST 2015', 'SEPTEMBER 2015']\n"
     ]
    },
    {
     "data": {
      "text/html": [
       "<div>\n",
       "<style scoped>\n",
       "    .dataframe tbody tr th:only-of-type {\n",
       "        vertical-align: middle;\n",
       "    }\n",
       "\n",
       "    .dataframe tbody tr th {\n",
       "        vertical-align: top;\n",
       "    }\n",
       "\n",
       "    .dataframe thead th {\n",
       "        text-align: right;\n",
       "    }\n",
       "</style>\n",
       "<table border=\"1\" class=\"dataframe\">\n",
       "  <thead>\n",
       "    <tr style=\"text-align: right;\">\n",
       "      <th></th>\n",
       "      <th>DATE</th>\n",
       "      <th>SALES</th>\n",
       "    </tr>\n",
       "  </thead>\n",
       "  <tbody>\n",
       "    <tr>\n",
       "      <th>27</th>\n",
       "      <td>2015-01-27</td>\n",
       "      <td>6870.83</td>\n",
       "    </tr>\n",
       "    <tr>\n",
       "      <th>28</th>\n",
       "      <td>2015-01-28</td>\n",
       "      <td>6042.06</td>\n",
       "    </tr>\n",
       "    <tr>\n",
       "      <th>29</th>\n",
       "      <td>2015-01-29</td>\n",
       "      <td>5947.24</td>\n",
       "    </tr>\n",
       "    <tr>\n",
       "      <th>30</th>\n",
       "      <td>2015-01-30</td>\n",
       "      <td>6324.38</td>\n",
       "    </tr>\n",
       "    <tr>\n",
       "      <th>31</th>\n",
       "      <td>2015-01-31</td>\n",
       "      <td>4880.65</td>\n",
       "    </tr>\n",
       "  </tbody>\n",
       "</table>\n",
       "</div>"
      ],
      "text/plain": [
       "         DATE    SALES\n",
       "27 2015-01-27  6870.83\n",
       "28 2015-01-28  6042.06\n",
       "29 2015-01-29  5947.24\n",
       "30 2015-01-30  6324.38\n",
       "31 2015-01-31  4880.65"
      ]
     },
     "execution_count": 11,
     "metadata": {},
     "output_type": "execute_result"
    }
   ],
   "source": [
    "os.listdir(\"data\")\n",
    "df = pd.ExcelFile(\"data/AGO STOCK MOVEMENT 2015.xlsx\")\n",
    "print(df.sheet_names)\n",
    "jan=pd.read_excel(df, \"JANUARY 2015\", skiprows=5)\n",
    "jan=jan[[\"DATE\", \"SALES\"]]\n",
    "jan=jan.iloc[0:32,:]\n",
    "jan.tail()"
   ]
  },
  {
   "cell_type": "code",
   "execution_count": 16,
   "id": "7e2cf91e",
   "metadata": {},
   "outputs": [
    {
     "data": {
      "text/html": [
       "<div>\n",
       "<style scoped>\n",
       "    .dataframe tbody tr th:only-of-type {\n",
       "        vertical-align: middle;\n",
       "    }\n",
       "\n",
       "    .dataframe tbody tr th {\n",
       "        vertical-align: top;\n",
       "    }\n",
       "\n",
       "    .dataframe thead th {\n",
       "        text-align: right;\n",
       "    }\n",
       "</style>\n",
       "<table border=\"1\" class=\"dataframe\">\n",
       "  <thead>\n",
       "    <tr style=\"text-align: right;\">\n",
       "      <th></th>\n",
       "      <th>DATE</th>\n",
       "      <th>SALES</th>\n",
       "    </tr>\n",
       "  </thead>\n",
       "  <tbody>\n",
       "    <tr>\n",
       "      <th>0</th>\n",
       "      <td>NaT</td>\n",
       "      <td>NaN</td>\n",
       "    </tr>\n",
       "    <tr>\n",
       "      <th>1</th>\n",
       "      <td>2015-02-01</td>\n",
       "      <td>3843.45</td>\n",
       "    </tr>\n",
       "    <tr>\n",
       "      <th>2</th>\n",
       "      <td>2015-02-02</td>\n",
       "      <td>6123.17</td>\n",
       "    </tr>\n",
       "    <tr>\n",
       "      <th>3</th>\n",
       "      <td>2015-02-03</td>\n",
       "      <td>6230.18</td>\n",
       "    </tr>\n",
       "    <tr>\n",
       "      <th>4</th>\n",
       "      <td>2015-02-04</td>\n",
       "      <td>6190.34</td>\n",
       "    </tr>\n",
       "  </tbody>\n",
       "</table>\n",
       "</div>"
      ],
      "text/plain": [
       "        DATE    SALES\n",
       "0        NaT      NaN\n",
       "1 2015-02-01  3843.45\n",
       "2 2015-02-02  6123.17\n",
       "3 2015-02-03  6230.18\n",
       "4 2015-02-04  6190.34"
      ]
     },
     "execution_count": 16,
     "metadata": {},
     "output_type": "execute_result"
    }
   ],
   "source": [
    "feb=pd.read_excel(df, \"FEBRUARY 2015\", skiprows=5)\n",
    "feb=feb[[\"DATE\", \"SALES\"]]\n",
    "feb=feb.iloc[0:29,:]\n",
    "feb.head()"
   ]
  },
  {
   "cell_type": "code",
   "execution_count": 17,
   "id": "e40d16bf",
   "metadata": {},
   "outputs": [
    {
     "data": {
      "text/plain": [
       "(61, 2)"
      ]
     },
     "execution_count": 17,
     "metadata": {},
     "output_type": "execute_result"
    }
   ],
   "source": [
    "final=pd.concat([jan, feb])\n",
    "final.shape"
   ]
  },
  {
   "cell_type": "code",
   "execution_count": 19,
   "id": "b58804ab",
   "metadata": {},
   "outputs": [
    {
     "data": {
      "text/html": [
       "<div>\n",
       "<style scoped>\n",
       "    .dataframe tbody tr th:only-of-type {\n",
       "        vertical-align: middle;\n",
       "    }\n",
       "\n",
       "    .dataframe tbody tr th {\n",
       "        vertical-align: top;\n",
       "    }\n",
       "\n",
       "    .dataframe thead th {\n",
       "        text-align: right;\n",
       "    }\n",
       "</style>\n",
       "<table border=\"1\" class=\"dataframe\">\n",
       "  <thead>\n",
       "    <tr style=\"text-align: right;\">\n",
       "      <th></th>\n",
       "      <th>DATE</th>\n",
       "      <th>SALES</th>\n",
       "      <th>date</th>\n",
       "    </tr>\n",
       "  </thead>\n",
       "  <tbody>\n",
       "    <tr>\n",
       "      <th>0</th>\n",
       "      <td>NaT</td>\n",
       "      <td>NaN</td>\n",
       "      <td>NaT</td>\n",
       "    </tr>\n",
       "    <tr>\n",
       "      <th>1</th>\n",
       "      <td>2015-01-01</td>\n",
       "      <td>3171.43</td>\n",
       "      <td>2015-01-01</td>\n",
       "    </tr>\n",
       "    <tr>\n",
       "      <th>2</th>\n",
       "      <td>2015-01-02</td>\n",
       "      <td>3843.45</td>\n",
       "      <td>2015-01-02</td>\n",
       "    </tr>\n",
       "    <tr>\n",
       "      <th>3</th>\n",
       "      <td>2015-01-03</td>\n",
       "      <td>3556.74</td>\n",
       "      <td>2015-01-03</td>\n",
       "    </tr>\n",
       "    <tr>\n",
       "      <th>4</th>\n",
       "      <td>2015-01-04</td>\n",
       "      <td>3482.36</td>\n",
       "      <td>2015-01-04</td>\n",
       "    </tr>\n",
       "  </tbody>\n",
       "</table>\n",
       "</div>"
      ],
      "text/plain": [
       "        DATE    SALES       date\n",
       "0        NaT      NaN        NaT\n",
       "1 2015-01-01  3171.43 2015-01-01\n",
       "2 2015-01-02  3843.45 2015-01-02\n",
       "3 2015-01-03  3556.74 2015-01-03\n",
       "4 2015-01-04  3482.36 2015-01-04"
      ]
     },
     "execution_count": 19,
     "metadata": {},
     "output_type": "execute_result"
    }
   ],
   "source": [
    "final[\"date\"]=pd.DatetimeIndex(final[\"DATE\"])\n",
    "final.head()"
   ]
  },
  {
   "cell_type": "code",
   "execution_count": 29,
   "id": "18d00d16",
   "metadata": {},
   "outputs": [
    {
     "name": "stdout",
     "output_type": "stream",
     "text": [
      "<class 'pandas.core.frame.DataFrame'>\n",
      "Int64Index: 59 entries, 1 to 28\n",
      "Data columns (total 3 columns):\n",
      " #   Column  Non-Null Count  Dtype         \n",
      "---  ------  --------------  -----         \n",
      " 0   DATE    59 non-null     datetime64[ns]\n",
      " 1   SALES   59 non-null     float64       \n",
      " 2   date    59 non-null     datetime64[ns]\n",
      "dtypes: datetime64[ns](2), float64(1)\n",
      "memory usage: 1.8 KB\n"
     ]
    },
    {
     "data": {
      "text/plain": [
       "array(['2015-01-01T00:00:00.000000000', '2015-01-02T00:00:00.000000000',\n",
       "       '2015-01-03T00:00:00.000000000', '2015-01-04T00:00:00.000000000',\n",
       "       '2015-01-05T00:00:00.000000000', '2015-01-06T00:00:00.000000000',\n",
       "       '2015-01-07T00:00:00.000000000', '2015-01-08T00:00:00.000000000',\n",
       "       '2015-01-09T00:00:00.000000000', '2015-01-10T00:00:00.000000000',\n",
       "       '2015-01-11T00:00:00.000000000', '2015-01-12T00:00:00.000000000',\n",
       "       '2015-01-13T00:00:00.000000000', '2015-01-14T00:00:00.000000000',\n",
       "       '2015-01-15T00:00:00.000000000', '2015-01-16T00:00:00.000000000',\n",
       "       '2015-01-17T00:00:00.000000000', '2015-01-18T00:00:00.000000000',\n",
       "       '2015-01-19T00:00:00.000000000', '2015-01-20T00:00:00.000000000',\n",
       "       '2015-01-21T00:00:00.000000000', '2015-01-22T00:00:00.000000000',\n",
       "       '2015-01-23T00:00:00.000000000', '2015-01-24T00:00:00.000000000',\n",
       "       '2015-01-25T00:00:00.000000000', '2015-01-26T00:00:00.000000000',\n",
       "       '2015-01-27T00:00:00.000000000', '2015-01-28T00:00:00.000000000',\n",
       "       '2015-01-29T00:00:00.000000000', '2015-01-30T00:00:00.000000000',\n",
       "       '2015-01-31T00:00:00.000000000', '2015-02-01T00:00:00.000000000',\n",
       "       '2015-02-02T00:00:00.000000000', '2015-02-03T00:00:00.000000000',\n",
       "       '2015-02-04T00:00:00.000000000', '2015-02-05T00:00:00.000000000',\n",
       "       '2015-02-06T00:00:00.000000000', '2015-02-07T00:00:00.000000000',\n",
       "       '2015-02-08T00:00:00.000000000', '2015-02-09T00:00:00.000000000',\n",
       "       '2015-02-10T00:00:00.000000000', '2015-02-11T00:00:00.000000000',\n",
       "       '2015-02-12T00:00:00.000000000', '2015-02-13T00:00:00.000000000',\n",
       "       '2015-02-14T00:00:00.000000000', '2015-02-15T00:00:00.000000000',\n",
       "       '2015-02-16T00:00:00.000000000', '2015-02-17T00:00:00.000000000',\n",
       "       '2015-02-18T00:00:00.000000000', '2015-02-19T00:00:00.000000000',\n",
       "       '2015-02-20T00:00:00.000000000', '2015-02-21T00:00:00.000000000',\n",
       "       '2015-02-22T00:00:00.000000000', '2015-02-23T00:00:00.000000000',\n",
       "       '2015-02-24T00:00:00.000000000', '2015-02-25T00:00:00.000000000',\n",
       "       '2015-02-26T00:00:00.000000000', '2015-02-27T00:00:00.000000000',\n",
       "       '2015-02-28T00:00:00.000000000'], dtype='datetime64[ns]')"
      ]
     },
     "execution_count": 29,
     "metadata": {},
     "output_type": "execute_result"
    }
   ],
   "source": [
    "final.info()\n",
    "final=final.dropna()\n",
    "final[\"date\"].unique()"
   ]
  },
  {
   "cell_type": "code",
   "execution_count": 1,
   "id": "5e334839",
   "metadata": {},
   "outputs": [
    {
     "ename": "NameError",
     "evalue": "name 'final' is not defined",
     "output_type": "error",
     "traceback": [
      "\u001b[1;31m---------------------------------------------------------------------------\u001b[0m",
      "\u001b[1;31mNameError\u001b[0m                                 Traceback (most recent call last)",
      "Input \u001b[1;32mIn [1]\u001b[0m, in \u001b[0;36m<cell line: 2>\u001b[1;34m()\u001b[0m\n\u001b[0;32m      1\u001b[0m \u001b[38;5;28;01mimport\u001b[39;00m \u001b[38;5;21;01mplotly_express\u001b[39;00m \u001b[38;5;28;01mas\u001b[39;00m \u001b[38;5;21;01mpx\u001b[39;00m\n\u001b[1;32m----> 2\u001b[0m px\u001b[38;5;241m.\u001b[39mline(\u001b[43mfinal\u001b[49m, x\u001b[38;5;241m=\u001b[39m \u001b[38;5;124m\"\u001b[39m\u001b[38;5;124mdate\u001b[39m\u001b[38;5;124m\"\u001b[39m, y\u001b[38;5;241m=\u001b[39m\u001b[38;5;124m\"\u001b[39m\u001b[38;5;124mSALES\u001b[39m\u001b[38;5;124m\"\u001b[39m)\n",
      "\u001b[1;31mNameError\u001b[0m: name 'final' is not defined"
     ]
    }
   ],
   "source": [
    "import plotly_express as px\n",
    "px.line(final, x= \"date\", y=\"SALES\")"
   ]
  },
  {
   "cell_type": "code",
   "execution_count": null,
   "id": "f3b5c177",
   "metadata": {},
   "outputs": [],
   "source": [
    "# Import necessary libraries\n",
    "import pandas as pd\n",
    "import os\n",
    "\n",
    "# Define file path and sheet names\n",
    "file_path = \"data/AGO STOCK MOVEMENT 2015.xlsx\"\n",
    "sheet_names = [\"JANUARY 2015\", \"FEBRUARY 2015\", \"MARCH 2015\"]  # Add additional sheet names as needed\n",
    "\n",
    "# Loop through sheets and clean data\n",
    "for sheet_name in sheet_names:\n",
    "    # Read in data from sheet\n",
    "    df = pd.read_excel(file_path, sheet_name, skiprows=5)\n",
    "    \n",
    "    # Select relevant columns and rows\n",
    "    df = df[[\"DATE\", \"SALES\"]].iloc[0:32,:]\n",
    "    \n",
    "    # Print cleaned data\n",
    "    print(f\"Cleaned data for {sheet_name}:\")\n",
    "    print(df.tail())"
   ]
  },
  {
   "cell_type": "code",
   "execution_count": null,
   "id": "9ae75e4c",
   "metadata": {},
   "outputs": [],
   "source": [
    "pd = df"
   ]
  }
 ],
 "metadata": {
  "kernelspec": {
   "display_name": "Python 3 (ipykernel)",
   "language": "python",
   "name": "python3"
  },
  "language_info": {
   "codemirror_mode": {
    "name": "ipython",
    "version": 3
   },
   "file_extension": ".py",
   "mimetype": "text/x-python",
   "name": "python",
   "nbconvert_exporter": "python",
   "pygments_lexer": "ipython3",
   "version": "3.10.4"
  }
 },
 "nbformat": 4,
 "nbformat_minor": 5
}
