{
 "cells": [
  {
   "cell_type": "code",
   "execution_count": null,
   "metadata": {},
   "outputs": [],
   "source": [
    "# read the data from the data folder\n",
    "\n",
    "# read all the tabs data and combine the  diesel and kerosene data\n",
    "\n",
    "# visualize the data to make sense of it\n",
    "\n",
    "# write some conclusions in markdown\n",
    "\n",
    "# write the combined data to excel sheets on the output folder"
   ]
  }
 ],
 "metadata": {
  "kernelspec": {
   "display_name": "Python 3.10.4 ('LIFT-ZfCkO8hQ')",
   "language": "python",
   "name": "python3"
  },
  "language_info": {
   "name": "python",
   "version": "3.10.4"
  },
  "orig_nbformat": 4,
  "vscode": {
   "interpreter": {
    "hash": "c515c8fbc483ac3d2f3ff49e0e689583c7d80870f65eed60ae70ca5582b184ce"
   }
  }
 },
 "nbformat": 4,
 "nbformat_minor": 2
}
