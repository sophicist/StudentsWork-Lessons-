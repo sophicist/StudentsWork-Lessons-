{
 "cells": [
  {
   "cell_type": "code",
   "execution_count": 3,
   "id": "8563a018",
   "metadata": {},
   "outputs": [
    {
     "name": "stdout",
     "output_type": "stream",
     "text": [
      "Cleaned data for JANUARY 2015:\n",
      "         DATE    SALES\n",
      "27 2015-01-27  6870.83\n",
      "28 2015-01-28  6042.06\n",
      "29 2015-01-29  5947.24\n",
      "30 2015-01-30  6324.38\n",
      "31 2015-01-31  4880.65\n",
      "Cleaned data for FEBRUARY 2015:\n",
      "         DATE    SALES\n",
      "27 2015-02-27  6138.99\n",
      "28 2015-02-28  4891.28\n",
      "29 2015-03-01  4161.81\n",
      "30        NaT      NaN\n",
      "31        NaT      NaN\n",
      "Cleaned data for MARCH 2015:\n",
      "         DATE    SALES\n",
      "27 2015-03-27  6272.47\n",
      "28 2015-03-28  4892.99\n",
      "29 2015-03-29  3530.21\n",
      "30 2015-03-30  6156.67\n",
      "31 2015-03-31  6394.14\n"
     ]
    }
   ],
   "source": [
    "import pandas as pd\n",
    "import os\n",
    "\n",
    "# Define file path and sheet names\n",
    "file_path = \"data/AGO STOCK MOVEMENT 2015.xlsx\"\n",
    "sheet_names = [\"JANUARY 2015\", \"FEBRUARY 2015\", \"MARCH 2015\"]  # Add additional sheet names as needed\n",
    "\n",
    "# Loop through sheets and clean data\n",
    "for sheet_name in sheet_names:\n",
    "    # Read in data from sheet\n",
    "    df = pd.read_excel(file_path, sheet_name, skiprows=5)\n",
    "    \n",
    "    # Select relevant columns and rows\n",
    "    df = df[[\"DATE\", \"SALES\"]].iloc[0:32,:]\n",
    "    \n",
    "    # Print cleaned data\n",
    "    print(f\"Cleaned data for {sheet_name}:\")\n",
    "    print(df.tail())"
   ]
  },
  {
   "cell_type": "code",
   "execution_count": null,
   "id": "b25e03b6",
   "metadata": {},
   "outputs": [],
   "source": []
  }
 ],
 "metadata": {
  "kernelspec": {
   "display_name": "Python 3 (ipykernel)",
   "language": "python",
   "name": "python3"
  },
  "language_info": {
   "codemirror_mode": {
    "name": "ipython",
    "version": 3
   },
   "file_extension": ".py",
   "mimetype": "text/x-python",
   "name": "python",
   "nbconvert_exporter": "python",
   "pygments_lexer": "ipython3",
   "version": "3.10.4"
  }
 },
 "nbformat": 4,
 "nbformat_minor": 5
}
