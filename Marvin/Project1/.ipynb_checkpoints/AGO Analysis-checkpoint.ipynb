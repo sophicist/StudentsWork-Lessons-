{
 "cells": [
  {
   "cell_type": "markdown",
   "id": "c5b2fee1",
   "metadata": {},
   "source": [
    "## <font color = \"purple\"> Exploratory Data Analysis </font>"
   ]
  },
  {
   "cell_type": "code",
   "execution_count": 1,
   "id": "434c53bb",
   "metadata": {},
   "outputs": [],
   "source": [
    "# Import libaries \n",
    "import pandas as pd\n",
    "import os"
   ]
  },
  {
   "cell_type": "code",
   "execution_count": 2,
   "id": "47bc8af8",
   "metadata": {},
   "outputs": [
    {
     "name": "stdout",
     "output_type": "stream",
     "text": [
      "['JANUARY 2015', 'FEBRUARY 2015', 'MARCH 2015', 'APRIL 2015', 'MAY 2015', 'JUNE 2015', 'JULY 2015', 'AUGUST 2015', 'SEPTEMBER 2015']\n"
     ]
    },
    {
     "data": {
      "text/html": [
       "<div>\n",
       "<style scoped>\n",
       "    .dataframe tbody tr th:only-of-type {\n",
       "        vertical-align: middle;\n",
       "    }\n",
       "\n",
       "    .dataframe tbody tr th {\n",
       "        vertical-align: top;\n",
       "    }\n",
       "\n",
       "    .dataframe thead th {\n",
       "        text-align: right;\n",
       "    }\n",
       "</style>\n",
       "<table border=\"1\" class=\"dataframe\">\n",
       "  <thead>\n",
       "    <tr style=\"text-align: right;\">\n",
       "      <th></th>\n",
       "      <th>DATE</th>\n",
       "      <th>SALES</th>\n",
       "    </tr>\n",
       "  </thead>\n",
       "  <tbody>\n",
       "    <tr>\n",
       "      <th>27</th>\n",
       "      <td>2015-01-27</td>\n",
       "      <td>6870.83</td>\n",
       "    </tr>\n",
       "    <tr>\n",
       "      <th>28</th>\n",
       "      <td>2015-01-28</td>\n",
       "      <td>6042.06</td>\n",
       "    </tr>\n",
       "    <tr>\n",
       "      <th>29</th>\n",
       "      <td>2015-01-29</td>\n",
       "      <td>5947.24</td>\n",
       "    </tr>\n",
       "    <tr>\n",
       "      <th>30</th>\n",
       "      <td>2015-01-30</td>\n",
       "      <td>6324.38</td>\n",
       "    </tr>\n",
       "    <tr>\n",
       "      <th>31</th>\n",
       "      <td>2015-01-31</td>\n",
       "      <td>4880.65</td>\n",
       "    </tr>\n",
       "  </tbody>\n",
       "</table>\n",
       "</div>"
      ],
      "text/plain": [
       "         DATE    SALES\n",
       "27 2015-01-27  6870.83\n",
       "28 2015-01-28  6042.06\n",
       "29 2015-01-29  5947.24\n",
       "30 2015-01-30  6324.38\n",
       "31 2015-01-31  4880.65"
      ]
     },
     "execution_count": 2,
     "metadata": {},
     "output_type": "execute_result"
    }
   ],
   "source": [
    "# Read the data\n",
    "os.listdir(\"data\")\n",
    "df = pd.ExcelFile(\"data/AGO STOCK MOVEMENT 2015.xlsx\")\n",
    "print(df.sheet_names)\n",
    "\n",
    "# January data\n",
    "jan = pd.read_excel(df, \"JANUARY 2015\", skiprows=5)\n",
    "jan = jan[[\"DATE\", \"SALES\"]]\n",
    "jan = jan.iloc[0:32,:]\n",
    "jan.tail()"
   ]
  },
  {
   "cell_type": "code",
   "execution_count": 3,
   "id": "152588e6",
   "metadata": {},
   "outputs": [
    {
     "data": {
      "text/plain": [
       "(61, 2)"
      ]
     },
     "execution_count": 3,
     "metadata": {},
     "output_type": "execute_result"
    }
   ],
   "source": [
    "# February data\n",
    "feb = pd.read_excel(df, \"FEBRUARY 2015\", skiprows=5)\n",
    "feb = feb[[\"DATE\",\"SALES\"]]\n",
    "feb = feb.iloc[0:29,:]\n",
    "feb.head()\n",
    "# Concatinating the two\n",
    "final= pd.concat([jan, feb])\n",
    "final.shape"
   ]
  },
  {
   "cell_type": "code",
   "execution_count": 18,
   "id": "e609017b",
   "metadata": {},
   "outputs": [
    {
     "name": "stdout",
     "output_type": "stream",
     "text": [
      "                   DATE    SALES\n",
      "0                   NaT      NaN\n",
      "1   2015-01-01 00:00:00  3171.43\n",
      "2   2015-01-02 00:00:00  3843.45\n",
      "3   2015-01-03 00:00:00  3556.74\n",
      "4   2015-01-04 00:00:00  3482.36\n",
      "..                  ...      ...\n",
      "27  2015-08-27 00:00:00      NaN\n",
      "28  2015-08-28 00:00:00      NaN\n",
      "29  2015-08-29 00:00:00      NaN\n",
      "30  2015-08-30 00:00:00      NaN\n",
      "31  2015-08-31 00:00:00      NaN\n",
      "\n",
      "[288 rows x 2 columns]\n"
     ]
    }
   ],
   "source": [
    "# Using a for loop to concatenate the sheets\n",
    "# Define the sheet names\n",
    "\n",
    "file_path = \"data/AGO STOCK MOVEMENT 2015.xlsx\"\n",
    "sheet_names = ['JANUARY 2015', 'FEBRUARY 2015', 'MARCH 2015', 'APRIL 2015', 'MAY 2015', 'JUNE 2015', 'JULY 2015', 'AUGUST 2015', 'SEPTEMBER 2015']# list to store the final dataframe\n",
    "\n",
    "cleaned_data = []\n",
    "for sheet_name in sheet_names:\n",
    "    df = pd.read_excel(file_path, sheet_name, skiprows = 5)\n",
    "    df = df[[\"DATE\", \"SALES\"]].iloc[0:32,:]\n",
    "    cleaned_data.append(df)\n",
    "# concatenate dataframes\n",
    "dt = pd.concat(cleaned_data)\n",
    "print(dt)"
   ]
  },
  {
   "cell_type": "code",
   "execution_count": 20,
   "id": "eaa811d5",
   "metadata": {},
   "outputs": [
    {
     "data": {
      "text/plain": [
       "Index(['DATE', 'SALES'], dtype='object')"
      ]
     },
     "execution_count": 20,
     "metadata": {},
     "output_type": "execute_result"
    }
   ],
   "source": [
    "# The column names\n",
    "dt.columns"
   ]
  },
  {
   "cell_type": "code",
   "execution_count": 21,
   "id": "265f476d",
   "metadata": {},
   "outputs": [
    {
     "data": {
      "text/plain": [
       "(288, 2)"
      ]
     },
     "execution_count": 21,
     "metadata": {},
     "output_type": "execute_result"
    }
   ],
   "source": [
    "# Number of rows and columns\n",
    "dt.shape"
   ]
  },
  {
   "cell_type": "code",
   "execution_count": 23,
   "id": "1a6194ab",
   "metadata": {},
   "outputs": [
    {
     "data": {
      "text/plain": [
       "count      252.00\n",
       "unique     250.00\n",
       "top       3843.45\n",
       "freq         2.00\n",
       "Name: SALES, dtype: float64"
      ]
     },
     "execution_count": 23,
     "metadata": {},
     "output_type": "execute_result"
    }
   ],
   "source": [
    "# Summary statistics\n",
    "dt[\"SALES\"].describe()"
   ]
  },
  {
   "cell_type": "code",
   "execution_count": 24,
   "id": "6fbd2400",
   "metadata": {},
   "outputs": [
    {
     "name": "stdout",
     "output_type": "stream",
     "text": [
      "<class 'pandas.core.frame.DataFrame'>\n",
      "Int64Index: 288 entries, 0 to 31\n",
      "Data columns (total 2 columns):\n",
      " #   Column  Non-Null Count  Dtype \n",
      "---  ------  --------------  ----- \n",
      " 0   DATE    277 non-null    object\n",
      " 1   SALES   252 non-null    object\n",
      "dtypes: object(2)\n",
      "memory usage: 6.8+ KB\n"
     ]
    }
   ],
   "source": [
    "# Column types\n",
    "dt.info()"
   ]
  },
  {
   "cell_type": "code",
   "execution_count": 32,
   "id": "2655bf4a",
   "metadata": {},
   "outputs": [],
   "source": [
    "# Checking for nulls\n",
    "dt.isnull().sum()\n",
    "# Impute the nulls\n",
    "dt_upd = dt.dropna()"
   ]
  },
  {
   "cell_type": "code",
   "execution_count": 33,
   "id": "2427dd68",
   "metadata": {},
   "outputs": [
    {
     "data": {
      "text/plain": [
       "(252, 2)"
      ]
     },
     "execution_count": 33,
     "metadata": {},
     "output_type": "execute_result"
    }
   ],
   "source": [
    "dt_upd.shape"
   ]
  },
  {
   "cell_type": "code",
   "execution_count": null,
   "id": "ad74972d",
   "metadata": {},
   "outputs": [],
   "source": [
    "<font_color=red>Visualization</font>"
   ]
  }
 ],
 "metadata": {
  "kernelspec": {
   "display_name": "Python 3 (ipykernel)",
   "language": "python",
   "name": "python3"
  },
  "language_info": {
   "codemirror_mode": {
    "name": "ipython",
    "version": 3
   },
   "file_extension": ".py",
   "mimetype": "text/x-python",
   "name": "python",
   "nbconvert_exporter": "python",
   "pygments_lexer": "ipython3",
   "version": "3.10.4"
  }
 },
 "nbformat": 4,
 "nbformat_minor": 5
}
