{
 "cells": [
  {
   "cell_type": "markdown",
   "id": "dbf3922a",
   "metadata": {},
   "source": [
    "# <font color = \"pink\">Using Lists,Tuples,dictionaries (simple data structures)</font> \n",
    "<img src =\"https://th.bing.com/th/id/R.57aea0d4405273ff04983853d0dfacdc?rik=oK17AsRROZK%2fUA&pid=ImgRaw&r=0\" height =200 width =300>"
   ]
  },
  {
   "cell_type": "code",
   "execution_count": 5,
   "id": "6d798419",
   "metadata": {},
   "outputs": [
    {
     "data": {
      "text/plain": [
       "'joan'"
      ]
     },
     "execution_count": 5,
     "metadata": {},
     "output_type": "execute_result"
    }
   ],
   "source": [
    "friends = [\"john\", \"joan\", \"alex\", \"kamau\", \"ivy\"]\n",
    "ages = [23,54,76,11,90]\n",
    "friends[1]"
   ]
  },
  {
   "cell_type": "code",
   "execution_count": 6,
   "id": "f54704bb",
   "metadata": {},
   "outputs": [
    {
     "data": {
      "text/html": [
       "<div>\n",
       "<style scoped>\n",
       "    .dataframe tbody tr th:only-of-type {\n",
       "        vertical-align: middle;\n",
       "    }\n",
       "\n",
       "    .dataframe tbody tr th {\n",
       "        vertical-align: top;\n",
       "    }\n",
       "\n",
       "    .dataframe thead th {\n",
       "        text-align: right;\n",
       "    }\n",
       "</style>\n",
       "<table border=\"1\" class=\"dataframe\">\n",
       "  <thead>\n",
       "    <tr style=\"text-align: right;\">\n",
       "      <th></th>\n",
       "      <th>friends_name</th>\n",
       "      <th>ages</th>\n",
       "    </tr>\n",
       "  </thead>\n",
       "  <tbody>\n",
       "    <tr>\n",
       "      <th>0</th>\n",
       "      <td>john</td>\n",
       "      <td>23</td>\n",
       "    </tr>\n",
       "    <tr>\n",
       "      <th>1</th>\n",
       "      <td>joan</td>\n",
       "      <td>54</td>\n",
       "    </tr>\n",
       "    <tr>\n",
       "      <th>2</th>\n",
       "      <td>alex</td>\n",
       "      <td>76</td>\n",
       "    </tr>\n",
       "    <tr>\n",
       "      <th>3</th>\n",
       "      <td>kamau</td>\n",
       "      <td>11</td>\n",
       "    </tr>\n",
       "    <tr>\n",
       "      <th>4</th>\n",
       "      <td>ivy</td>\n",
       "      <td>90</td>\n",
       "    </tr>\n",
       "  </tbody>\n",
       "</table>\n",
       "</div>"
      ],
      "text/plain": [
       "  friends_name  ages\n",
       "0         john    23\n",
       "1         joan    54\n",
       "2         alex    76\n",
       "3        kamau    11\n",
       "4          ivy    90"
      ]
     },
     "execution_count": 6,
     "metadata": {},
     "output_type": "execute_result"
    }
   ],
   "source": [
    "import pandas as pd\n",
    "\n",
    "dt = pd.DataFrame(friends,columns = [\"friends_name\"])\n",
    "dt[\"ages\"] = ages\n",
    "dt"
   ]
  },
  {
   "cell_type": "code",
   "execution_count": 10,
   "id": "f1e019a7",
   "metadata": {},
   "outputs": [
    {
     "name": "stdout",
     "output_type": "stream",
     "text": [
      "['john', 'joan', 'alex', 'kamau', 'ivy', 'Wanjiru', 'Wanjiru']\n"
     ]
    },
    {
     "data": {
      "text/plain": [
       "200"
      ]
     },
     "execution_count": 10,
     "metadata": {},
     "output_type": "execute_result"
    }
   ],
   "source": [
    "# learn ten new things each day and add them to github\n",
    "# eg learn list indexing, list slicing,list appending\n",
    "friends.append(\"Wanjiru\")\n",
    "print(friends)\n",
    "# learn what are tuples\n",
    "y = (10,16,89) # tuple\n",
    "# learn what are dictionaries\n",
    "prices = {\"Unga\":200,\"CD\":300,\"TV\":19000}\n",
    "prices[\"Unga\"]\n",
    "# learn what are sets"
   ]
  },
  {
   "cell_type": "code",
   "execution_count": null,
   "id": "c7709afa",
   "metadata": {},
   "outputs": [],
   "source": [
    "#create new repository add data\n",
    "# learn cloning git repos"
   ]
  }
 ],
 "metadata": {
  "kernelspec": {
   "display_name": "Python 3 (ipykernel)",
   "language": "python",
   "name": "python3"
  },
  "language_info": {
   "codemirror_mode": {
    "name": "ipython",
    "version": 3
   },
   "file_extension": ".py",
   "mimetype": "text/x-python",
   "name": "python",
   "nbconvert_exporter": "python",
   "pygments_lexer": "ipython3",
   "version": "3.10.6"
  }
 },
 "nbformat": 4,
 "nbformat_minor": 5
}
