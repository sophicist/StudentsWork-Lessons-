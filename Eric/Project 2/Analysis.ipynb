{
 "cells": [
  {
   "cell_type": "code",
   "execution_count": 5,
   "metadata": {},
   "outputs": [
    {
     "data": {
      "text/html": [
       "<div>\n",
       "<style scoped>\n",
       "    .dataframe tbody tr th:only-of-type {\n",
       "        vertical-align: middle;\n",
       "    }\n",
       "\n",
       "    .dataframe tbody tr th {\n",
       "        vertical-align: top;\n",
       "    }\n",
       "\n",
       "    .dataframe thead th {\n",
       "        text-align: right;\n",
       "    }\n",
       "</style>\n",
       "<table border=\"1\" class=\"dataframe\">\n",
       "  <thead>\n",
       "    <tr style=\"text-align: right;\">\n",
       "      <th></th>\n",
       "      <th>Type</th>\n",
       "      <th>Specific Cost Item</th>\n",
       "      <th>Details</th>\n",
       "      <th>Amount</th>\n",
       "      <th>Task Details</th>\n",
       "    </tr>\n",
       "  </thead>\n",
       "  <tbody>\n",
       "    <tr>\n",
       "      <th>0</th>\n",
       "      <td>labour</td>\n",
       "      <td>Tree</td>\n",
       "      <td>Cut trees</td>\n",
       "      <td>3000</td>\n",
       "      <td>NaN</td>\n",
       "    </tr>\n",
       "    <tr>\n",
       "      <th>1</th>\n",
       "      <td>labour</td>\n",
       "      <td>Tree</td>\n",
       "      <td>cuting branches and removing the trunks</td>\n",
       "      <td>3500</td>\n",
       "      <td>NaN</td>\n",
       "    </tr>\n",
       "    <tr>\n",
       "      <th>2</th>\n",
       "      <td>labour</td>\n",
       "      <td>Tree</td>\n",
       "      <td>split trunks(kata kuni)</td>\n",
       "      <td>1000</td>\n",
       "      <td>split firewood</td>\n",
       "    </tr>\n",
       "  </tbody>\n",
       "</table>\n",
       "</div>"
      ],
      "text/plain": [
       "     Type Specific Cost Item                                  Details  Amount  \\\n",
       "0  labour               Tree                                Cut trees    3000   \n",
       "1  labour               Tree  cuting branches and removing the trunks    3500   \n",
       "2  labour               Tree                  split trunks(kata kuni)    1000   \n",
       "\n",
       "     Task Details  \n",
       "0             NaN  \n",
       "1             NaN  \n",
       "2  split firewood  "
      ]
     },
     "execution_count": 5,
     "metadata": {},
     "output_type": "execute_result"
    }
   ],
   "source": [
    "import pandas as pd\n",
    "import plotly_express as px\n",
    "import seaborn as sns\n",
    "import os\n",
    "os.listdir()\n",
    "\n",
    "df = pd.read_excel('Pickup Returns Analysis.xlsx',1)\n",
    "df.head(3)"
   ]
  },
  {
   "cell_type": "code",
   "execution_count": 6,
   "metadata": {},
   "outputs": [],
   "source": [
    "# EXPLORE THE DATA"
   ]
  },
  {
   "cell_type": "code",
   "execution_count": 8,
   "metadata": {},
   "outputs": [
    {
     "name": "stdout",
     "output_type": "stream",
     "text": [
      "['Tree' 'Coop' 'Foundation' 'House Body' 'Rental' 'Interiors' 'Slab'\n",
      " 'Electricals' 'Roof' 'Plumbing' 'Ceiling' 'Windows and Doors' 'roof'\n",
      " 'Additional Metal' 'Flowers for the coridor rails' 'interiors' 'Key']\n",
      "['labour' 'Chalk' 'String' 'Sand' 'Stones' 'Ballast' 'Hardcore' 'Cement'\n",
      " 'Whooping Iron' 'Buckets' 'Hardcore ' 'Labour' 'Metal' 'Wire(Binding)'\n",
      " 'Pipes' 'Misc' 'Nails' 'Paper Nylon' 'Broom' 'Mbao' 'Labour ' 'Wood'\n",
      " 'Transport' 'Wood(Mbao)' 'Termite Spray' 'Plumbing Pipes' 'Ceiling'\n",
      " 'Mabati' 'Lock' 'Paint' 'Labor' 'sand' 'cement' 'labor' 'Tiles' 'Granite'\n",
      " 'panes' 'Sink' 'Drainage' 'Paint ' 'Wire']\n"
     ]
    }
   ],
   "source": [
    "# SHOW HOW MUCH EACH SPECIFIC COST ITEM COST (SUM)\n",
    "# SHOW HOW MUCH EACH SPECIFIC COST ITEM COST what was the average 'Type'cost eg for roof what was the labor cost\n",
    "print(df['Specific Cost Item'].unique())\n",
    "print(df['Type'].unique())"
   ]
  },
  {
   "cell_type": "code",
   "execution_count": null,
   "metadata": {},
   "outputs": [],
   "source": [
    "# create a pie chart showing the percentage costs foreach specific cost item"
   ]
  }
 ],
 "metadata": {
  "kernelspec": {
   "display_name": "Documents-r64dE3LN",
   "language": "python",
   "name": "python3"
  },
  "language_info": {
   "codemirror_mode": {
    "name": "ipython",
    "version": 3
   },
   "file_extension": ".py",
   "mimetype": "text/x-python",
   "name": "python",
   "nbconvert_exporter": "python",
   "pygments_lexer": "ipython3",
   "version": "3.10.6"
  },
  "orig_nbformat": 4
 },
 "nbformat": 4,
 "nbformat_minor": 2
}
