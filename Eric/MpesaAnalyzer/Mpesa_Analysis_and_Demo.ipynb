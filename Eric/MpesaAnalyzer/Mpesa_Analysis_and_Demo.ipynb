{
 "cells": [
  {
   "cell_type": "code",
   "execution_count": 2,
   "metadata": {},
   "outputs": [
    {
     "data": {
      "text/plain": [
       "['Statement_All_Transactions_20220630_20221231.pdf']"
      ]
     },
     "execution_count": 2,
     "metadata": {},
     "output_type": "execute_result"
    }
   ],
   "source": [
    "import tabula\n",
    "import os\n",
    "import matplotlib.pyplot as plt\n",
    "from ipywidgets import interact\n",
    "import warnings\n",
    "from tabula.io import read_pdf\n",
    "warnings.simplefilter(action='ignore')\n",
    "import matplotlib.pyplot as plt\n",
    "import seaborn as sns\n",
    "import numpy as np\n",
    "import pandas as pd\n",
    "import matplotlib.pyplot as plt\n",
    "#from wordcloud import WordCloud\n",
    "os.listdir(\"2020_statements\")\n"
   ]
  },
  {
   "cell_type": "code",
   "execution_count": 3,
   "metadata": {},
   "outputs": [
    {
     "name": "stdout",
     "output_type": "stream",
     "text": [
      "Statement_All_Transactions_20220630_20221231.pdf\n",
      "read...\n"
     ]
    },
    {
     "data": {
      "text/plain": [
       "(61, 8)"
      ]
     },
     "execution_count": 3,
     "metadata": {},
     "output_type": "execute_result"
    }
   ],
   "source": [
    "import pandas as pd\n",
    "# create an empty dataframe that will collect all the data\n",
    "df  = pd.DataFrame()\n",
    "for i in os.listdir(\"2020_statements\"):\n",
    "    \n",
    "    if \".pdf\" in i:\n",
    "        try:\n",
    "            print(i)\n",
    "            #create yet another dataframe that will collect all data from each page\n",
    "            temp = pd.DataFrame()\n",
    "            data = read_pdf(\"2020_statements/\" +i, pages='all',password = \"\",multiple_tables=True)\n",
    "            print(\"read...\")\n",
    "            for i in range(1,len(data)):\n",
    "                temp = pd.concat((data[i],temp),0)\n",
    "                #print(temp.shape)\n",
    "            dt = pd.DataFrame(temp)\n",
    "            df = pd.concat((df,dt),0)\n",
    "            \n",
    "            #print(data.head(2))\n",
    "        except:\n",
    "            print(\"cant\")\n",
    "            pass\n",
    "df.shape"
   ]
  },
  {
   "cell_type": "code",
   "execution_count": 4,
   "metadata": {},
   "outputs": [
    {
     "data": {
      "text/html": [
       "<div>\n",
       "<style scoped>\n",
       "    .dataframe tbody tr th:only-of-type {\n",
       "        vertical-align: middle;\n",
       "    }\n",
       "\n",
       "    .dataframe tbody tr th {\n",
       "        vertical-align: top;\n",
       "    }\n",
       "\n",
       "    .dataframe thead th {\n",
       "        text-align: right;\n",
       "    }\n",
       "</style>\n",
       "<table border=\"1\" class=\"dataframe\">\n",
       "  <thead>\n",
       "    <tr style=\"text-align: right;\">\n",
       "      <th></th>\n",
       "      <th>Receipt No</th>\n",
       "      <th>Completion Time</th>\n",
       "      <th>Details</th>\n",
       "      <th>Transaction Status</th>\n",
       "      <th>Paid in</th>\n",
       "      <th>Withdraw\\rn</th>\n",
       "      <th>Balance</th>\n",
       "      <th>Unnamed: 0</th>\n",
       "    </tr>\n",
       "  </thead>\n",
       "  <tbody>\n",
       "    <tr>\n",
       "      <th>0</th>\n",
       "      <td>QLQ82671HA</td>\n",
       "      <td>2022-12-26 10:32:24</td>\n",
       "      <td>Merchant Payment Online to 301732 -\\rHENRY MUI...</td>\n",
       "      <td>COMPLETED</td>\n",
       "      <td>0.00</td>\n",
       "      <td>600.00</td>\n",
       "      <td>438.01</td>\n",
       "      <td>NaN</td>\n",
       "    </tr>\n",
       "    <tr>\n",
       "      <th>1</th>\n",
       "      <td>QLQ5263WPR</td>\n",
       "      <td>2022-12-26 10:31:13</td>\n",
       "      <td>Business Payment from 516601 - DTB\\rTouch 24 7...</td>\n",
       "      <td>COMPLETED</td>\n",
       "      <td>1,000.00</td>\n",
       "      <td>0.00</td>\n",
       "      <td>1,038.01</td>\n",
       "      <td>NaN</td>\n",
       "    </tr>\n",
       "    <tr>\n",
       "      <th>2</th>\n",
       "      <td>QLP6ZRMWKU</td>\n",
       "      <td>2022-12-25 16:06:59</td>\n",
       "      <td>Merchant Payment Online to 865109 -\\rDAVID KIN...</td>\n",
       "      <td>COMPLETED</td>\n",
       "      <td>0.00</td>\n",
       "      <td>500.00</td>\n",
       "      <td>38.01</td>\n",
       "      <td>NaN</td>\n",
       "    </tr>\n",
       "    <tr>\n",
       "      <th>3</th>\n",
       "      <td>QLP0ZRCPPQ</td>\n",
       "      <td>2022-12-25 16:03:36</td>\n",
       "      <td>Business Payment from 516601 - DTB\\rTouch 24 7...</td>\n",
       "      <td>COMPLETED</td>\n",
       "      <td>500.00</td>\n",
       "      <td>0.00</td>\n",
       "      <td>538.01</td>\n",
       "      <td>NaN</td>\n",
       "    </tr>\n",
       "    <tr>\n",
       "      <th>4</th>\n",
       "      <td>QLO8Y82YPU</td>\n",
       "      <td>2022-12-24 22:07:52</td>\n",
       "      <td>Airtime Purchase</td>\n",
       "      <td>COMPLETED</td>\n",
       "      <td>0.00</td>\n",
       "      <td>150.00</td>\n",
       "      <td>38.01</td>\n",
       "      <td>NaN</td>\n",
       "    </tr>\n",
       "  </tbody>\n",
       "</table>\n",
       "</div>"
      ],
      "text/plain": [
       "   Receipt No      Completion Time  \\\n",
       "0  QLQ82671HA  2022-12-26 10:32:24   \n",
       "1  QLQ5263WPR  2022-12-26 10:31:13   \n",
       "2  QLP6ZRMWKU  2022-12-25 16:06:59   \n",
       "3  QLP0ZRCPPQ  2022-12-25 16:03:36   \n",
       "4  QLO8Y82YPU  2022-12-24 22:07:52   \n",
       "\n",
       "                                             Details Transaction Status  \\\n",
       "0  Merchant Payment Online to 301732 -\\rHENRY MUI...          COMPLETED   \n",
       "1  Business Payment from 516601 - DTB\\rTouch 24 7...          COMPLETED   \n",
       "2  Merchant Payment Online to 865109 -\\rDAVID KIN...          COMPLETED   \n",
       "3  Business Payment from 516601 - DTB\\rTouch 24 7...          COMPLETED   \n",
       "4                                   Airtime Purchase          COMPLETED   \n",
       "\n",
       "    Paid in Withdraw\\rn   Balance  Unnamed: 0  \n",
       "0      0.00      600.00    438.01         NaN  \n",
       "1  1,000.00        0.00  1,038.01         NaN  \n",
       "2      0.00      500.00     38.01         NaN  \n",
       "3    500.00        0.00    538.01         NaN  \n",
       "4      0.00      150.00     38.01         NaN  "
      ]
     },
     "execution_count": 4,
     "metadata": {},
     "output_type": "execute_result"
    }
   ],
   "source": [
    "df.head()"
   ]
  },
  {
   "cell_type": "code",
   "execution_count": 5,
   "metadata": {},
   "outputs": [
    {
     "name": "stdout",
     "output_type": "stream",
     "text": [
      "(61, 9)\n"
     ]
    },
    {
     "data": {
      "text/html": [
       "<div>\n",
       "<style scoped>\n",
       "    .dataframe tbody tr th:only-of-type {\n",
       "        vertical-align: middle;\n",
       "    }\n",
       "\n",
       "    .dataframe tbody tr th {\n",
       "        vertical-align: top;\n",
       "    }\n",
       "\n",
       "    .dataframe thead th {\n",
       "        text-align: right;\n",
       "    }\n",
       "</style>\n",
       "<table border=\"1\" class=\"dataframe\">\n",
       "  <thead>\n",
       "    <tr style=\"text-align: right;\">\n",
       "      <th></th>\n",
       "      <th>Receipt No</th>\n",
       "      <th>Completion Time</th>\n",
       "      <th>Details</th>\n",
       "      <th>Transaction Status</th>\n",
       "      <th>Paid in</th>\n",
       "      <th>Withdraw\\rn</th>\n",
       "      <th>Balance</th>\n",
       "      <th>Unnamed: 0</th>\n",
       "      <th>Month</th>\n",
       "    </tr>\n",
       "  </thead>\n",
       "  <tbody>\n",
       "    <tr>\n",
       "      <th>0</th>\n",
       "      <td>QLQ82671HA</td>\n",
       "      <td>2022-12-26 10:32:24</td>\n",
       "      <td>Merchant Payment Online to 301732 -\\rHENRY MUI...</td>\n",
       "      <td>COMPLETED</td>\n",
       "      <td>0.00</td>\n",
       "      <td>600.00</td>\n",
       "      <td>438.01</td>\n",
       "      <td>NaN</td>\n",
       "      <td>2022/12</td>\n",
       "    </tr>\n",
       "    <tr>\n",
       "      <th>1</th>\n",
       "      <td>QLQ5263WPR</td>\n",
       "      <td>2022-12-26 10:31:13</td>\n",
       "      <td>Business Payment from 516601 - DTB\\rTouch 24 7...</td>\n",
       "      <td>COMPLETED</td>\n",
       "      <td>1,000.00</td>\n",
       "      <td>0.00</td>\n",
       "      <td>1,038.01</td>\n",
       "      <td>NaN</td>\n",
       "      <td>2022/12</td>\n",
       "    </tr>\n",
       "    <tr>\n",
       "      <th>2</th>\n",
       "      <td>QLP6ZRMWKU</td>\n",
       "      <td>2022-12-25 16:06:59</td>\n",
       "      <td>Merchant Payment Online to 865109 -\\rDAVID KIN...</td>\n",
       "      <td>COMPLETED</td>\n",
       "      <td>0.00</td>\n",
       "      <td>500.00</td>\n",
       "      <td>38.01</td>\n",
       "      <td>NaN</td>\n",
       "      <td>2022/12</td>\n",
       "    </tr>\n",
       "    <tr>\n",
       "      <th>3</th>\n",
       "      <td>QLP0ZRCPPQ</td>\n",
       "      <td>2022-12-25 16:03:36</td>\n",
       "      <td>Business Payment from 516601 - DTB\\rTouch 24 7...</td>\n",
       "      <td>COMPLETED</td>\n",
       "      <td>500.00</td>\n",
       "      <td>0.00</td>\n",
       "      <td>538.01</td>\n",
       "      <td>NaN</td>\n",
       "      <td>2022/12</td>\n",
       "    </tr>\n",
       "    <tr>\n",
       "      <th>4</th>\n",
       "      <td>QLO8Y82YPU</td>\n",
       "      <td>2022-12-24 22:07:52</td>\n",
       "      <td>Airtime Purchase</td>\n",
       "      <td>COMPLETED</td>\n",
       "      <td>0.00</td>\n",
       "      <td>150.00</td>\n",
       "      <td>38.01</td>\n",
       "      <td>NaN</td>\n",
       "      <td>2022/12</td>\n",
       "    </tr>\n",
       "  </tbody>\n",
       "</table>\n",
       "</div>"
      ],
      "text/plain": [
       "   Receipt No     Completion Time  \\\n",
       "0  QLQ82671HA 2022-12-26 10:32:24   \n",
       "1  QLQ5263WPR 2022-12-26 10:31:13   \n",
       "2  QLP6ZRMWKU 2022-12-25 16:06:59   \n",
       "3  QLP0ZRCPPQ 2022-12-25 16:03:36   \n",
       "4  QLO8Y82YPU 2022-12-24 22:07:52   \n",
       "\n",
       "                                             Details Transaction Status  \\\n",
       "0  Merchant Payment Online to 301732 -\\rHENRY MUI...          COMPLETED   \n",
       "1  Business Payment from 516601 - DTB\\rTouch 24 7...          COMPLETED   \n",
       "2  Merchant Payment Online to 865109 -\\rDAVID KIN...          COMPLETED   \n",
       "3  Business Payment from 516601 - DTB\\rTouch 24 7...          COMPLETED   \n",
       "4                                   Airtime Purchase          COMPLETED   \n",
       "\n",
       "    Paid in Withdraw\\rn   Balance  Unnamed: 0    Month  \n",
       "0      0.00      600.00    438.01         NaN  2022/12  \n",
       "1  1,000.00        0.00  1,038.01         NaN  2022/12  \n",
       "2      0.00      500.00     38.01         NaN  2022/12  \n",
       "3    500.00        0.00    538.01         NaN  2022/12  \n",
       "4      0.00      150.00     38.01         NaN  2022/12  "
      ]
     },
     "execution_count": 5,
     "metadata": {},
     "output_type": "execute_result"
    }
   ],
   "source": [
    "# clean the df\n",
    "\n",
    "df[\"Completion Time\"] = pd.DatetimeIndex(df[\"Completion Time\"])\n",
    "df[\"Month\"]= [str(pd.Period(i,freq = \"M\").year) +\"/\"+ str(pd.Period(i,freq = \"M\").month) for i in df[\"Completion Time\"]]\n",
    "print(df.shape)\n",
    "dt = df.drop_duplicates()\n",
    "df.head()"
   ]
  },
  {
   "cell_type": "code",
   "execution_count": 6,
   "metadata": {},
   "outputs": [],
   "source": [
    "dt.to_excel(\"EricData.xlsx\")"
   ]
  },
  {
   "cell_type": "code",
   "execution_count": null,
   "metadata": {},
   "outputs": [],
   "source": []
  }
 ],
 "metadata": {
  "kernelspec": {
   "display_name": "Python 3 (ipykernel)",
   "language": "python",
   "name": "python3"
  },
  "language_info": {
   "codemirror_mode": {
    "name": "ipython",
    "version": 3
   },
   "file_extension": ".py",
   "mimetype": "text/x-python",
   "name": "python",
   "nbconvert_exporter": "python",
   "pygments_lexer": "ipython3",
   "version": "3.9.13"
  },
  "vscode": {
   "interpreter": {
    "hash": "c515c8fbc483ac3d2f3ff49e0e689583c7d80870f65eed60ae70ca5582b184ce"
   }
  }
 },
 "nbformat": 4,
 "nbformat_minor": 4
}
