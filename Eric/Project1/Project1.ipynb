{
 "cells": [
  {
   "cell_type": "markdown",
   "metadata": {},
   "source": [
    "# <font color = \"cyan\"> The expectations for this project</font>\n",
    "\n",
    "The project aims at ensuring that you can apply the tool sthat you have learned so far and can use them to create knowledge both personal and in your work place\n",
    "\n",
    "* Create a dataset( Excel) for your personal expenses or you can download any dataset online eg from <a href = \"https://www.kaggle.com/datasets\">Kaggle</a>\n",
    "* write one paragraph explaining where the data was taken from and what the data is about\n",
    "* read the data in python\n",
    "* summarise the data\n",
    "* visualize the data ( two plots)\n",
    "* write a paragraph explaining what findings you get in the data"
   ]
  },
  {
   "cell_type": "markdown",
   "metadata": {},
   "source": []
  },
  {
   "cell_type": "markdown",
   "metadata": {},
   "source": []
  },
  {
   "cell_type": "markdown",
   "metadata": {},
   "source": []
  },
  {
   "cell_type": "markdown",
   "metadata": {},
   "source": []
  }
 ],
 "metadata": {
  "kernelspec": {
   "display_name": "Python 3.9.13 ('base')",
   "language": "python",
   "name": "python3"
  },
  "language_info": {
   "codemirror_mode": {
    "name": "ipython",
    "version": 3
   },
   "file_extension": ".py",
   "mimetype": "text/x-python",
   "name": "python",
   "nbconvert_exporter": "python",
   "pygments_lexer": "ipython3",
   "version": "3.9.13"
  },
  "orig_nbformat": 4,
  "vscode": {
   "interpreter": {
    "hash": "57bc2b6ce032b5f0e93daa91901b7ea38a856826ef43aa9e95b6d3999f5310df"
   }
  }
 },
 "nbformat": 4,
 "nbformat_minor": 2
}
