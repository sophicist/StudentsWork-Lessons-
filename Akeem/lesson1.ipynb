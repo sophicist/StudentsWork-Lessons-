{
 "cells": [
  {
   "cell_type": "code",
   "execution_count": 1,
   "metadata": {},
   "outputs": [],
   "source": [
    "# Data structures in Python\n",
    "name = \"john\" # string\n",
    "age =34 # integer\n",
    "height = 6.0 # float\n",
    "friend = ['james','jim','jacob','mary'] # list\n",
    "friends = ('james','jim','jacob','mary')# tuple\n",
    "shop = {\"eggs\":10,\"bread\":100,\"flour\":1000  }# dictionary"
   ]
  },
  {
   "cell_type": "code",
   "execution_count": 4,
   "metadata": {},
   "outputs": [
    {
     "data": {
      "text/plain": [
       "'john kamau'"
      ]
     },
     "execution_count": 4,
     "metadata": {},
     "output_type": "execute_result"
    }
   ],
   "source": [
    "#how to concatenate (build)\n",
    "\"john\" + \" \" + \"kamau\" # you can add strings"
   ]
  },
  {
   "cell_type": "code",
   "execution_count": 5,
   "metadata": {},
   "outputs": [
    {
     "data": {
      "text/plain": [
       "1088.1"
      ]
     },
     "execution_count": 5,
     "metadata": {},
     "output_type": "execute_result"
    }
   ],
   "source": [
    "324+764.1"
   ]
  },
  {
   "cell_type": "code",
   "execution_count": 1,
   "metadata": {},
   "outputs": [
    {
     "data": {
      "text/plain": [
       "int"
      ]
     },
     "execution_count": 1,
     "metadata": {},
     "output_type": "execute_result"
    }
   ],
   "source": [
    "age = 20\n",
    "mum = 40\n",
    "age+mum\n",
    "type(age)"
   ]
  },
  {
   "cell_type": "code",
   "execution_count": 9,
   "metadata": {},
   "outputs": [
    {
     "name": "stdout",
     "output_type": "stream",
     "text": [
      "['jim', 'jacob']\n"
     ]
    }
   ],
   "source": [
    "# Indexing lists and slicing lists/tuples\n",
    "# indexing getting the nth index from a list\n",
    "friend[0]\n",
    "# slicing is getting multiple things from a list\n",
    "list2 = friend[1:3]\n",
    "print(list2)"
   ]
  },
  {
   "cell_type": "code",
   "execution_count": 3,
   "metadata": {},
   "outputs": [
    {
     "name": "stdout",
     "output_type": "stream",
     "text": [
      "dict_keys(['primary', 'undergrad', 'post'])\n",
      "dict_values([457, 756, 321])\n"
     ]
    }
   ],
   "source": [
    "marks = {\"primary\":457,\"undergrad\":756,\"post\":321}\n",
    "marks['post']\n",
    "print(marks.keys())\n",
    "print(marks.values())"
   ]
  },
  {
   "attachments": {},
   "cell_type": "markdown",
   "metadata": {},
   "source": [
    "# <font color = \"red\"> First excercise </font>"
   ]
  },
  {
   "cell_type": "code",
   "execution_count": 9,
   "metadata": {},
   "outputs": [
    {
     "name": "stdout",
     "output_type": "stream",
     "text": [
      "sugar beans beans\n",
      "[435, 48, 48]\n",
      "531\n",
      "------------------------------------------------------------\n",
      "Akeems Supermarket\n",
      "------------------------------------------------------------\n",
      "------------------------------------------------------------\n",
      "sugar 435\n",
      "beans 48\n",
      "beans 48\n",
      "------------------------------------------------------------\n",
      "TOTAL: 531\n",
      "------------------------------------------------------------\n"
     ]
    }
   ],
   "source": [
    "# dictionaries\n",
    "\n",
    "# create a dictionary with shopping items (20) - call suparmarket\n",
    "supa = {\"sugar\":435,\"beans\":48}\n",
    "# create a list of groceries list with 5 items\n",
    "grocery = [\"sugar\",\"beans\",\"beans\"]\n",
    "\n",
    "\n",
    "#  for each item in grocery list extract the price from the supermarket\n",
    "item1 = grocery[0]\n",
    "item2 = grocery[1]\n",
    "item3 = grocery[2]\n",
    "\n",
    "print(item1,item2,item3)\n",
    "\n",
    "prices = [supa[item1],supa[item2],supa[item3]]\n",
    "print(prices)\n",
    "total = sum(prices)\n",
    "print(total)\n",
    "# print the item and the price\n",
    "# create a list of only the prices\n",
    "# create the sum of the prices\n",
    "# create a  receipt based on your grocery list\n",
    "\n",
    "print(\"--\"*30)\n",
    "print(\"Akeems Supermarket\")\n",
    "print(\"--\"*30)\n",
    "print(\"--\"*30)\n",
    "print(item1,prices[0])\n",
    "print(item2,prices[1])\n",
    "print(item3,prices[2])\n",
    "print(\"--\"*30)\n",
    "print(\"TOTAL:\",total)\n",
    "print(\"--\"*30)\n",
    "# include VAT -  16% if the total\n"
   ]
  },
  {
   "cell_type": "code",
   "execution_count": 3,
   "metadata": {},
   "outputs": [
    {
     "name": "stdout",
     "output_type": "stream",
     "text": [
      "['john', 'james', 'alice']\n"
     ]
    }
   ],
   "source": [
    "# sets\n",
    "y = {\"kenya\",\"nigeria\",\"senagal\",\"uganda\",\"uganda\"}\n",
    "x = {\"kenya\",\"uganda\",\"SA\",\"Botswana\"}\n",
    "\n",
    "names = [\"john\",\"james\",\"john\",\"alice\"]\n",
    "\n",
    "unique = list(set(names))\n",
    "y.intersection(x)\n",
    "print(unique)"
   ]
  },
  {
   "cell_type": "code",
   "execution_count": 8,
   "metadata": {},
   "outputs": [
    {
     "name": "stdout",
     "output_type": "stream",
     "text": [
      "Defaulting to user installation because normal site-packages is not writeable\n",
      "Requirement already satisfied: pandas in /home/sophicist/.local/lib/python3.10/site-packages (2.0.1)\n",
      "Requirement already satisfied: tzdata>=2022.1 in /home/sophicist/.local/lib/python3.10/site-packages (from pandas) (2023.3)\n",
      "Requirement already satisfied: pytz>=2020.1 in /usr/lib/python3/dist-packages (from pandas) (2022.1)\n",
      "Requirement already satisfied: python-dateutil>=2.8.2 in /home/sophicist/.local/lib/python3.10/site-packages (from pandas) (2.8.2)\n",
      "Requirement already satisfied: numpy>=1.21.0 in /home/sophicist/.local/lib/python3.10/site-packages (from pandas) (1.24.2)\n",
      "Requirement already satisfied: six>=1.5 in /usr/lib/python3/dist-packages (from python-dateutil>=2.8.2->pandas) (1.16.0)\n"
     ]
    },
    {
     "data": {
      "text/plain": [
       "array(['john', 'james', 'alice'], dtype=object)"
      ]
     },
     "execution_count": 8,
     "metadata": {},
     "output_type": "execute_result"
    }
   ],
   "source": [
    "#!pip install pandas\n",
    "import numpy as np\n",
    "import pandas as pd\n",
    "\n",
    "names = pd.Series(names)\n",
    "names.unique()"
   ]
  }
 ],
 "metadata": {
  "kernelspec": {
   "display_name": "Python 3 (ipykernel)",
   "language": "python",
   "name": "python3"
  },
  "language_info": {
   "codemirror_mode": {
    "name": "ipython",
    "version": 3
   },
   "file_extension": ".py",
   "mimetype": "text/x-python",
   "name": "python",
   "nbconvert_exporter": "python",
   "pygments_lexer": "ipython3",
   "version": "3.10.6"
  }
 },
 "nbformat": 4,
 "nbformat_minor": 4
}
