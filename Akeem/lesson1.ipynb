{
 "cells": [
  {
   "cell_type": "code",
   "execution_count": 1,
   "metadata": {},
   "outputs": [],
   "source": [
    "# Data structures in Python\n",
    "name = \"john\" # string\n",
    "age =34 # integer\n",
    "height = 6.0 # float\n",
    "friend = ['james','jim','jacob','mary'] # list\n",
    "friends = ('james','jim','jacob','mary')# tuple\n",
    "shop = {\"eggs\":10,\"bread\":100,\"flour\":1000  }# dictionary"
   ]
  },
  {
   "cell_type": "code",
   "execution_count": 4,
   "metadata": {},
   "outputs": [
    {
     "data": {
      "text/plain": [
       "'john kamau'"
      ]
     },
     "execution_count": 4,
     "metadata": {},
     "output_type": "execute_result"
    }
   ],
   "source": [
    "#how to concatenate (build)\n",
    "\"john\" + \" \" + \"kamau\" # you can add strings"
   ]
  },
  {
   "cell_type": "code",
   "execution_count": 5,
   "metadata": {},
   "outputs": [
    {
     "data": {
      "text/plain": [
       "1088.1"
      ]
     },
     "execution_count": 5,
     "metadata": {},
     "output_type": "execute_result"
    }
   ],
   "source": [
    "324+764.1"
   ]
  },
  {
   "cell_type": "code",
   "execution_count": 6,
   "metadata": {},
   "outputs": [
    {
     "data": {
      "text/plain": [
       "60"
      ]
     },
     "execution_count": 6,
     "metadata": {},
     "output_type": "execute_result"
    }
   ],
   "source": [
    "age = 20\n",
    "mum = 40\n",
    "age+mum"
   ]
  },
  {
   "cell_type": "code",
   "execution_count": 9,
   "metadata": {},
   "outputs": [
    {
     "name": "stdout",
     "output_type": "stream",
     "text": [
      "['jim', 'jacob']\n"
     ]
    }
   ],
   "source": [
    "# Indexing lists and slicing lists/tuples\n",
    "# indexing getting the nth index from a list\n",
    "friend[0]\n",
    "# slicing is getting multiple things from a list\n",
    "list2 = friend[1:3]\n",
    "print(list2)"
   ]
  },
  {
   "cell_type": "code",
   "execution_count": null,
   "metadata": {},
   "outputs": [],
   "source": [
    "# dictionaries\n",
    "\n",
    "# create a dictionary with shopping items (20) - call suparmarket\n",
    "supa = {}\n",
    "# create a list of groceries list with 5 items\n",
    "grocery = []\n",
    "\n",
    "#  for each item in grocery list extract the price from the supermarket\n",
    "# print the item and the price\n",
    "# create a list of only the prices\n",
    "# create the sum of the prices\n",
    "# create a  receipt based on your grocery list"
   ]
  }
 ],
 "metadata": {
  "kernelspec": {
   "display_name": "Python 3 (ipykernel)",
   "language": "python",
   "name": "python3"
  },
  "language_info": {
   "codemirror_mode": {
    "name": "ipython",
    "version": 3
   },
   "file_extension": ".py",
   "mimetype": "text/x-python",
   "name": "python",
   "nbconvert_exporter": "python",
   "pygments_lexer": "ipython3",
   "version": "3.10.4"
  }
 },
 "nbformat": 4,
 "nbformat_minor": 4
}
