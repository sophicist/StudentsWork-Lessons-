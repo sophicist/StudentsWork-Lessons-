{
 "cells": [
  {
   "attachments": {},
   "cell_type": "markdown",
   "metadata": {},
   "source": [
    "# <fonts color = \"red\"> Functions in python </font>"
   ]
  },
  {
   "attachments": {},
   "cell_type": "markdown",
   "metadata": {},
   "source": [
    "$ y  = f(x) $ - the general function formulation ( y is a function of x)\n",
    "\n",
    "$y = 2x ^ 2$ - specific function formulation that gives specific mapping of x to get y\n"
   ]
  },
  {
   "cell_type": "code",
   "execution_count": 2,
   "metadata": {},
   "outputs": [
    {
     "name": "stdout",
     "output_type": "stream",
     "text": [
      "18\n",
      "33\n"
     ]
    }
   ],
   "source": [
    "# function \n",
    "\n",
    "def summer(x,y):\n",
    "    \"\"\"\n",
    "    inputs: x and y -> floats or integers\n",
    "    outputs x+y\n",
    "    \"\"\"\n",
    "    return x+y\n",
    "\n",
    "print(summer(x = 10,y = 8))\n",
    "print(summer(10,23))"
   ]
  },
  {
   "cell_type": "code",
   "execution_count": 3,
   "metadata": {},
   "outputs": [
    {
     "data": {
      "text/plain": [
       "'hi there kamau you are now 34 years'"
      ]
     },
     "execution_count": 3,
     "metadata": {},
     "output_type": "execute_result"
    }
   ],
   "source": [
    "def greeter():\n",
    "    \"\"\"the function asks for the name and age of a person and then greets them\"\"\"\n",
    "    y = input(\"what is your name?\")\n",
    "    x = input(\"what is your age?\")\n",
    "    return f\"hi there {y} you are now {x} years\"\n",
    "\n",
    "greeter()"
   ]
  },
  {
   "cell_type": "code",
   "execution_count": 5,
   "metadata": {},
   "outputs": [
    {
     "name": "stdout",
     "output_type": "stream",
     "text": [
      " your school is UBSI\n"
     ]
    }
   ],
   "source": [
    "# STRING FORMATING\n",
    "\n",
    "SCHOOL= \"UBSI\"\n",
    "print(f\" your school is {SCHOOL}\")"
   ]
  },
  {
   "cell_type": "code",
   "execution_count": 6,
   "metadata": {},
   "outputs": [],
   "source": [
    "import random\n",
    "ages = [random.randint(0,24) for i in range(10)]\n",
    "\n",
    "def age_range(age):\n",
    "    if age < 10:\n",
    "        return \"0-9\"\n",
    "    elif age <20:\n",
    "        return \"10-19\"\n",
    "    else:\n",
    "        return \"20+\"\n",
    "age_range(34)\n",
    "# map apply  -  apply a fucntion to a list\n",
    "\n",
    "age_bracket = list(map(age_range,ages))\n"
   ]
  },
  {
   "cell_type": "code",
   "execution_count": 7,
   "metadata": {},
   "outputs": [
    {
     "name": "stdout",
     "output_type": "stream",
     "text": [
      "['10-19', '0-9', '0-9', '10-19', '0-9', '20+', '10-19', '0-9', '10-19', '0-9']\n"
     ]
    }
   ],
   "source": [
    "age_bracket = []\n",
    "for age in ages:\n",
    "    brackets = age_range(age)\n",
    "    age_bracket.append(brackets)\n",
    "print(age_bracket)"
   ]
  },
  {
   "cell_type": "code",
   "execution_count": 8,
   "metadata": {},
   "outputs": [
    {
     "name": "stdout",
     "output_type": "stream",
     "text": [
      "Counter({'0-9': 5, '10-19': 4, '20+': 1})\n"
     ]
    }
   ],
   "source": [
    "from collections import Counter\n",
    "\n",
    "y = Counter(age_bracket)\n",
    "print(y)"
   ]
  },
  {
   "cell_type": "code",
   "execution_count": 10,
   "metadata": {},
   "outputs": [
    {
     "data": {
      "text/plain": [
       "{'Akeem': 2, 'John': 1}"
      ]
     },
     "execution_count": 10,
     "metadata": {},
     "output_type": "execute_result"
    }
   ],
   "source": [
    "# assignment -  create a function that takes a lift os trings and returns the sum\n",
    "# dont use the counter\n",
    "\n",
    "def Coun(ls):\n",
    "    return dict(Counter(ls))\n",
    "\n",
    "Coun([\"Akeem\",\"John\",\"Akeem\"])\n",
    "\n",
    "# create an empty list\n",
    "\n",
    "# loop through another list\n",
    "# check if item in dictionary\n",
    "# if in dictionary add 1\n",
    "# add the the item with avalue of 1"
   ]
  }
 ],
 "metadata": {
  "kernelspec": {
   "display_name": "base",
   "language": "python",
   "name": "python3"
  },
  "language_info": {
   "codemirror_mode": {
    "name": "ipython",
    "version": 3
   },
   "file_extension": ".py",
   "mimetype": "text/x-python",
   "name": "python",
   "nbconvert_exporter": "python",
   "pygments_lexer": "ipython3",
   "version": "3.9.13"
  },
  "orig_nbformat": 4
 },
 "nbformat": 4,
 "nbformat_minor": 2
}
