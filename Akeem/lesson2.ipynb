{
 "cells": [
  {
   "cell_type": "code",
<<<<<<< Updated upstream
   "execution_count": 1,
=======
   "execution_count": 3,
>>>>>>> Stashed changes
   "metadata": {},
   "outputs": [
    {
     "name": "stdout",
     "output_type": "stream",
     "text": [
<<<<<<< Updated upstream
      "2399\n",
      "2291\n",
      "126630\n",
      "43.425925925925924\n"
=======
      "------------------------------------------------------------\n",
      "Akeems Supermarket\n",
      "------------------------------------------------------------\n",
      "------------------------------------------------------------\n"
     ]
    },
    {
     "ename": "NameError",
     "evalue": "name 'item1' is not defined",
     "output_type": "error",
     "traceback": [
      "\u001b[0;31m---------------------------------------------------------------------------\u001b[0m",
      "\u001b[0;31mNameError\u001b[0m                                 Traceback (most recent call last)",
      "Cell \u001b[0;32mIn[3], line 5\u001b[0m\n\u001b[1;32m      3\u001b[0m \u001b[39mprint\u001b[39m(\u001b[39m\"\u001b[39m\u001b[39m--\u001b[39m\u001b[39m\"\u001b[39m\u001b[39m*\u001b[39m\u001b[39m30\u001b[39m)\n\u001b[1;32m      4\u001b[0m \u001b[39mprint\u001b[39m(\u001b[39m\"\u001b[39m\u001b[39m--\u001b[39m\u001b[39m\"\u001b[39m\u001b[39m*\u001b[39m\u001b[39m30\u001b[39m)\n\u001b[0;32m----> 5\u001b[0m \u001b[39mprint\u001b[39m(item1,prices[\u001b[39m0\u001b[39m])\n\u001b[1;32m      6\u001b[0m \u001b[39mprint\u001b[39m(item2,prices[\u001b[39m1\u001b[39m])\n\u001b[1;32m      7\u001b[0m \u001b[39mprint\u001b[39m(item3,prices[\u001b[39m2\u001b[39m])\n",
      "\u001b[0;31mNameError\u001b[0m: name 'item1' is not defined"
>>>>>>> Stashed changes
     ]
    }
   ],
   "source": [
<<<<<<< Updated upstream
    "#operators in python\n",
    "y = 2345\n",
    "x = 54\n",
    "z = 8\n",
    "\n",
    "print(y+x)\n",
    "print(y-x)\n",
    "print(y*x)\n",
    "print(y/x)"
   ]
  },
  {
   "attachments": {},
   "cell_type": "markdown",
   "metadata": {},
   "source": [
    "# <font color = \"teal\">this is a header</font>\n",
    "<img src = \"data:image/jpeg;base64,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\">"
   ]
  },
  {
   "attachments": {},
   "cell_type": "markdown",
   "metadata": {},
   "source": [
    "Bmi stands for the body mass index\n",
    "\n",
    "# $ bmi = \\frac{weight}{height^2}$  \n",
    "# latex"
   ]
  },
  {
   "cell_type": "code",
   "execution_count": 14,
   "metadata": {},
   "outputs": [
    {
     "name": "stdout",
     "output_type": "stream",
     "text": [
      "54.16666666666667\n",
      "22.25\n",
      "30.22222222222222\n"
     ]
    }
   ],
   "source": [
    "# additonal operators\n",
    "2**3 # the raising to a specific power\n",
    "100**0.5 # squareroot\n",
    "\n",
    "height = [1.2,2.0,1.5]\n",
    "weights = [78,89,68]\n",
    "# BMI\n",
    "\n",
    "for hgt,wgt in zip(height,weights):\n",
    "    print(wgt/hgt**2)\n"
   ]
  },
  {
   "cell_type": "code",
   "execution_count": 11,
   "metadata": {},
   "outputs": [
    {
     "data": {
      "text/plain": [
       "True"
      ]
     },
     "execution_count": 11,
     "metadata": {},
     "output_type": "execute_result"
    }
   ],
   "source": [
    "# Boolean operators\n",
    "2>10\n",
    "3<78\n",
    "True & True\n",
    "True & False # and operator\n",
    "True | False # the or operator"
   ]
  },
  {
   "cell_type": "code",
   "execution_count": null,
   "metadata": {},
   "outputs": [],
   "source": [
    "3 in [2,4,5] # membership\n",
    "3 not in [2,4,5] # membership"
   ]
  },
  {
   "cell_type": "code",
   "execution_count": 16,
   "metadata": {},
   "outputs": [
    {
     "name": "stdout",
     "output_type": "stream",
     "text": [
      "['bread', 'unga', 'eggs']\n",
      "['bread', 'unga', 'eggs', 'beans']\n"
     ]
    }
   ],
   "source": [
    "# conditional\n",
    "shopping = [\"bread\",\"unga\",\"eggs\"]\n",
    "print(shopping)\n",
    "\n",
    "if \"beans\" in shopping:\n",
    "    pass\n",
    "else:\n",
    "    shopping.append(\"beans\") # you can append things to lists using the append function\n",
    "print(shopping)"
   ]
  },
  {
   "cell_type": "code",
   "execution_count": 42,
   "metadata": {},
   "outputs": [
    {
     "name": "stdout",
     "output_type": "stream",
     "text": [
      "[51, 61, 89, 66, 72, 5, 78, 25, 27, 6]\n"
     ]
    }
   ],
   "source": [
    "# for loops \n",
    "import random\n",
    "ages = [] # data structures\n",
    "\n",
    "for i in range(0,100):\n",
    "    x = random.randint(0,89)\n",
    "    ages.append(x)\n",
    "print(ages[:10])"
   ]
  },
  {
   "cell_type": "code",
   "execution_count": 43,
   "metadata": {},
   "outputs": [
    {
     "name": "stdout",
     "output_type": "stream",
     "text": [
      "['Old', 'Old', 'Old', 'Old', 'Old']\n"
     ]
    }
   ],
   "source": [
    "age_bracket = []\n",
    "\n",
    "for age in ages:\n",
    "    if age <30:\n",
    "        age_bracket.append(\"young\")\n",
    "    elif age<50:\n",
    "        age_bracket.append('Midlife')\n",
    "    else:\n",
    "        age_bracket.append(\"Old\")\n",
    "print(age_bracket[:5])"
   ]
  },
  {
   "cell_type": "code",
   "execution_count": 44,
   "metadata": {},
   "outputs": [
    {
     "data": {
      "text/plain": [
       "{'Old': 50, 'young': 33, 'Midlife': 17}"
      ]
     },
     "execution_count": 44,
     "metadata": {},
     "output_type": "execute_result"
    }
   ],
   "source": [
    "# ignore\n",
    "# !pip install matplotlib \n",
    "from collections import Counter\n",
    "import matplotlib.pyplot as plt\n",
    "dt  = dict(Counter(age_bracket))\n",
    "dt"
   ]
  },
  {
   "cell_type": "code",
   "execution_count": 46,
   "metadata": {},
   "outputs": [
    {
     "data": {
      "image/png": "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",
      "text/plain": [
       "<Figure size 640x480 with 1 Axes>"
      ]
     },
     "metadata": {},
     "output_type": "display_data"
    }
   ],
   "source": [
    "plt.figure()\n",
    "plt.pie(dt.values(),labels = dt.keys(),autopct=\"%1.1f%%\")\n",
    "plt.show()"
   ]
  },
  {
   "cell_type": "code",
   "execution_count": 35,
   "metadata": {},
   "outputs": [
    {
     "data": {
      "text/plain": [
       "dict_values([21, 41, 38])"
      ]
     },
     "execution_count": 35,
     "metadata": {},
     "output_type": "execute_result"
    }
   ],
   "source": [
    "dt.values()"
=======
    "print(\"--\"*30)\n",
    "print(\"Akeems Supermarket\")\n",
    "print(\"--\"*30)\n",
    "print(\"--\"*30)\n",
    "print(item1,prices[0])\n",
    "print(item2,prices[1])\n",
    "print(item3,prices[2])\n",
    "print(\"--\"*30)\n",
    "print(\"TOTAL:\",total)\n",
    "print(\"--\"*30)\n",
    "# include VAT -  16% if the total"
>>>>>>> Stashed changes
   ]
  }
 ],
 "metadata": {
  "kernelspec": {
   "display_name": "Python 3",
   "language": "python",
   "name": "python3"
  },
  "language_info": {
   "codemirror_mode": {
    "name": "ipython",
    "version": 3
   },
   "file_extension": ".py",
   "mimetype": "text/x-python",
   "name": "python",
   "nbconvert_exporter": "python",
   "pygments_lexer": "ipython3",
<<<<<<< Updated upstream
   "version": "3.10.6"
=======
   "version": "3.11.1"
>>>>>>> Stashed changes
  },
  "orig_nbformat": 4
 },
 "nbformat": 4,
 "nbformat_minor": 2
}
