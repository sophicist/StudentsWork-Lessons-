{
 "cells": [
  {
   "cell_type": "code",
   "execution_count": 1,
   "metadata": {},
   "outputs": [],
   "source": [
    "import tensorflow as tf\n",
    "from tensorflow import keras\n",
    "from sklearn.datasets import load_iris\n",
    "from sklearn.model_selection import train_test_split\n",
    "from sklearn.preprocessing import StandardScaler"
   ]
  },
  {
   "cell_type": "code",
   "execution_count": 2,
   "metadata": {},
   "outputs": [],
   "source": [
    "iris = load_iris()\n",
    "X,y = iris.data,iris.target\n"
   ]
  },
  {
   "cell_type": "code",
   "execution_count": 3,
   "metadata": {},
   "outputs": [],
   "source": [
    "x_train,x_test,y_train,y_test = train_test_split(X,y,test_size = 0.15,random_state=2)\n",
    "\n",
    "scaler = StandardScaler()\n",
    "scaler.fit(X)\n",
    "x_train = scaler.transform(x_train)\n",
    "x_test  = scaler.transform(x_test)"
   ]
  },
  {
   "cell_type": "code",
   "execution_count": 4,
   "metadata": {},
   "outputs": [],
   "source": [
    "from tensorflow.keras.layers import Dense\n",
    "from tensorflow.keras.models import Sequential\n",
    "\n",
    "model = Sequential()\n",
    "model.add(Dense(10,activation='relu',input_shape = (4,)))\n",
    "model.add(Dense(24,activation = 'relu'))\n",
    "model.add(Dense(3,activation = 'softmax'))\n",
    "\n",
    "model.compile(optimizer = \"adam\",\n",
    "              loss = \"sparse_categorical_crossentropy\",\n",
    "              metrics = ['accuracy'])"
   ]
  },
  {
   "cell_type": "code",
   "execution_count": 5,
   "metadata": {},
   "outputs": [
    {
     "name": "stdout",
     "output_type": "stream",
     "text": [
      "Model: \"sequential\"\n",
      "_________________________________________________________________\n",
      " Layer (type)                Output Shape              Param #   \n",
      "=================================================================\n",
      " dense (Dense)               (None, 10)                50        \n",
      "                                                                 \n",
      " dense_1 (Dense)             (None, 24)                264       \n",
      "                                                                 \n",
      " dense_2 (Dense)             (None, 3)                 75        \n",
      "                                                                 \n",
      "=================================================================\n",
      "Total params: 389\n",
      "Trainable params: 389\n",
      "Non-trainable params: 0\n",
      "_________________________________________________________________\n"
     ]
    }
   ],
   "source": [
    "model.summary()"
   ]
  },
  {
   "cell_type": "code",
   "execution_count": 9,
   "metadata": {},
   "outputs": [
    {
     "name": "stdout",
     "output_type": "stream",
     "text": [
      "Unexpected exception formatting exception. Falling back to standard exception\n"
     ]
    },
    {
     "name": "stderr",
     "output_type": "stream",
     "text": [
      "Traceback (most recent call last):\n",
      "  File \"c:\\Users\\kkama\\.virtualenvs\\LIFT-ZfCkO8hQ\\Lib\\site-packages\\IPython\\core\\interactiveshell.py\", line 3508, in run_code\n",
      "    exec(code_obj, self.user_global_ns, self.user_ns)\n",
      "  File \"C:\\Users\\kkama\\AppData\\Local\\Temp\\ipykernel_27908\\2626699214.py\", line 3, in <module>\n",
      "    model = tf.keras.models.Sequential(\n",
      "            ^^^^^^^^^^^^^^^^^^^^^^^^^^^\n",
      "  File \"c:\\Users\\kkama\\.virtualenvs\\LIFT-ZfCkO8hQ\\Lib\\site-packages\\tensorflow\\python\\trackable\\base.py\", line 205, in _method_wrapper\n",
      "    result = method(self, *args, **kwargs)\n",
      "             ^^^^^^^^^^^^^^^^^^^^^^^^^^^^^\n",
      "  File \"c:\\Users\\kkama\\.virtualenvs\\LIFT-ZfCkO8hQ\\Lib\\site-packages\\keras\\utils\\traceback_utils.py\", line 70, in error_handler\n",
      "    raise e.with_traceback(filtered_tb) from None\n",
      "  File \"c:\\Users\\kkama\\.virtualenvs\\LIFT-ZfCkO8hQ\\Lib\\site-packages\\keras\\utils\\traceback_utils.py\", line 67, in error_handler\n",
      "    filtered_tb = _process_traceback_frames(e.__traceback__)\n",
      "                  ^^^^^^^^^^^^^^^^^^^^^^^^^^^^^^^^^^^^^^^^^^\n",
      "TypeError: Sequential.__init__() takes from 1 to 3 positional arguments but 4 were given\n",
      "\n",
      "During handling of the above exception, another exception occurred:\n",
      "\n",
      "Traceback (most recent call last):\n",
      "  File \"c:\\Users\\kkama\\.virtualenvs\\LIFT-ZfCkO8hQ\\Lib\\site-packages\\IPython\\core\\interactiveshell.py\", line 2105, in showtraceback\n",
      "    stb = self.InteractiveTB.structured_traceback(\n",
      "          ^^^^^^^^^^^^^^^^^^^^^^^^^^^^^^^^^^^^^^^^\n",
      "  File \"c:\\Users\\kkama\\.virtualenvs\\LIFT-ZfCkO8hQ\\Lib\\site-packages\\IPython\\core\\ultratb.py\", line 1396, in structured_traceback\n",
      "    return FormattedTB.structured_traceback(\n",
      "           ^^^^^^^^^^^^^^^^^^^^^^^^^^^^^^^^^\n",
      "  File \"c:\\Users\\kkama\\.virtualenvs\\LIFT-ZfCkO8hQ\\Lib\\site-packages\\IPython\\core\\ultratb.py\", line 1287, in structured_traceback\n",
      "    return VerboseTB.structured_traceback(\n",
      "           ^^^^^^^^^^^^^^^^^^^^^^^^^^^^^^^\n",
      "  File \"c:\\Users\\kkama\\.virtualenvs\\LIFT-ZfCkO8hQ\\Lib\\site-packages\\IPython\\core\\ultratb.py\", line 1140, in structured_traceback\n",
      "    formatted_exception = self.format_exception_as_a_whole(etype, evalue, etb, number_of_lines_of_context,\n",
      "                          ^^^^^^^^^^^^^^^^^^^^^^^^^^^^^^^^^^^^^^^^^^^^^^^^^^^^^^^^^^^^^^^^^^^^^^^^^^^^^^^^\n",
      "  File \"c:\\Users\\kkama\\.virtualenvs\\LIFT-ZfCkO8hQ\\Lib\\site-packages\\IPython\\core\\ultratb.py\", line 1030, in format_exception_as_a_whole\n",
      "    self.get_records(etb, number_of_lines_of_context, tb_offset) if etb else []\n",
      "    ^^^^^^^^^^^^^^^^^^^^^^^^^^^^^^^^^^^^^^^^^^^^^^^^^^^^^^^^^^^^\n",
      "  File \"c:\\Users\\kkama\\.virtualenvs\\LIFT-ZfCkO8hQ\\Lib\\site-packages\\IPython\\core\\ultratb.py\", line 1127, in get_records\n",
      "    res = list(stack_data.FrameInfo.stack_data(etb, options=options))[tb_offset:]\n",
      "          ^^^^^^^^^^^^^^^^^^^^^^^^^^^^^^^^^^^^^^^^^^^^^^^^^^^^^^^^^^^\n",
      "  File \"c:\\Users\\kkama\\.virtualenvs\\LIFT-ZfCkO8hQ\\Lib\\site-packages\\stack_data\\core.py\", line 597, in stack_data\n",
      "    yield from collapse_repeated(\n",
      "  File \"c:\\Users\\kkama\\.virtualenvs\\LIFT-ZfCkO8hQ\\Lib\\site-packages\\stack_data\\utils.py\", line 83, in collapse_repeated\n",
      "    yield from map(mapper, original_group)\n",
      "  File \"c:\\Users\\kkama\\.virtualenvs\\LIFT-ZfCkO8hQ\\Lib\\site-packages\\stack_data\\core.py\", line 587, in mapper\n",
      "    return cls(f, options)\n",
      "           ^^^^^^^^^^^^^^^\n",
      "  File \"c:\\Users\\kkama\\.virtualenvs\\LIFT-ZfCkO8hQ\\Lib\\site-packages\\stack_data\\core.py\", line 551, in __init__\n",
      "    self.executing = Source.executing(frame_or_tb)\n",
      "                     ^^^^^^^^^^^^^^^^^^^^^^^^^^^^^\n",
      "  File \"c:\\Users\\kkama\\.virtualenvs\\LIFT-ZfCkO8hQ\\Lib\\site-packages\\executing\\executing.py\", line 378, in executing\n",
      "    assert_(new_stmts <= stmts)\n",
      "  File \"c:\\Users\\kkama\\.virtualenvs\\LIFT-ZfCkO8hQ\\Lib\\site-packages\\executing\\executing.py\", line 154, in assert_\n",
      "    raise AssertionError(str(message))\n",
      "AssertionError\n"
     ]
    }
   ],
   "source": [
    "# model building\n",
    "\n",
    "# model = tf.keras.models.Sequential(\n",
    "#     tf.keras.layers.Dense(10,activation='relu',input_shape = (4,)),\n",
    "#     tf.keras.layers.Dense(24,activation = 'relu'),\n",
    "#     tf.keras.layers.Dense(3,activation = 'softmax')\n",
    "# )\n",
    "# # compile the model\n",
    "# model.compile(optimizer = \"adam\",\n",
    "#               loss = \"sparse_categorical_crossentropy\",\n",
    "#               metrics = ['accuracy'])"
   ]
  },
  {
   "cell_type": "code",
   "execution_count": 6,
   "metadata": {},
   "outputs": [
    {
     "name": "stdout",
     "output_type": "stream",
     "text": [
      "Epoch 1/10\n",
      "26/26 [==============================] - 1s 3ms/step - loss: 1.1522 - accuracy: 0.2913\n",
      "Epoch 2/10\n",
      "26/26 [==============================] - 0s 3ms/step - loss: 0.9602 - accuracy: 0.5354\n",
      "Epoch 3/10\n",
      "26/26 [==============================] - 0s 3ms/step - loss: 0.8178 - accuracy: 0.8031\n",
      "Epoch 4/10\n",
      "26/26 [==============================] - 0s 3ms/step - loss: 0.7085 - accuracy: 0.8110\n",
      "Epoch 5/10\n",
      "26/26 [==============================] - 0s 2ms/step - loss: 0.6162 - accuracy: 0.8189\n",
      "Epoch 6/10\n",
      "26/26 [==============================] - 0s 3ms/step - loss: 0.5446 - accuracy: 0.8189\n",
      "Epoch 7/10\n",
      "26/26 [==============================] - 0s 3ms/step - loss: 0.4860 - accuracy: 0.8268\n",
      "Epoch 8/10\n",
      "26/26 [==============================] - 0s 3ms/step - loss: 0.4455 - accuracy: 0.8346\n",
      "Epoch 9/10\n",
      "26/26 [==============================] - 0s 3ms/step - loss: 0.4130 - accuracy: 0.8346\n",
      "Epoch 10/10\n",
      "26/26 [==============================] - 0s 3ms/step - loss: 0.3893 - accuracy: 0.8504\n"
     ]
    },
    {
     "data": {
      "text/plain": [
       "<keras.callbacks.History at 0x1478278aa50>"
      ]
     },
     "execution_count": 6,
     "metadata": {},
     "output_type": "execute_result"
    }
   ],
   "source": [
    "from tensorflow.keras.callbacks import TensorBoard\n",
    "log_dir = \"logs/\"\n",
    "model.fit(x_train,y_train,epochs =10,batch_size =5,callbacks=[TensorBoard(log_dir=log_dir)])"
   ]
  },
  {
   "cell_type": "code",
   "execution_count": 17,
   "metadata": {},
   "outputs": [
    {
     "name": "stdout",
     "output_type": "stream",
     "text": [
      "Collecting visualkeras\n",
      "  Downloading visualkeras-0.0.2-py3-none-any.whl (12 kB)\n",
      "Requirement already satisfied: pillow>=6.2.0 in c:\\users\\kkama\\.virtualenvs\\lift-zfcko8hq\\lib\\site-packages (from visualkeras) (9.5.0)\n",
      "Requirement already satisfied: numpy>=1.18.1 in c:\\users\\kkama\\.virtualenvs\\lift-zfcko8hq\\lib\\site-packages (from visualkeras) (1.23.5)\n",
      "Collecting aggdraw>=1.3.11 (from visualkeras)\n",
      "  Downloading aggdraw-1.3.16-cp311-cp311-win_amd64.whl (43 kB)\n",
      "                                              0.0/43.2 kB ? eta -:--:--\n",
      "     ---------                                10.2/43.2 kB ? eta -:--:--\n",
      "     ---------------------------            30.7/43.2 kB 435.7 kB/s eta 0:00:01\n",
      "     -------------------------------------- 43.2/43.2 kB 350.7 kB/s eta 0:00:00\n",
      "Installing collected packages: aggdraw, visualkeras\n",
      "Successfully installed aggdraw-1.3.16 visualkeras-0.0.2\n"
     ]
    },
    {
     "name": "stderr",
     "output_type": "stream",
     "text": [
      "\n",
      "[notice] A new release of pip is available: 23.1.2 -> 23.2.1\n",
      "[notice] To update, run: python.exe -m pip install --upgrade pip\n"
     ]
    },
    {
     "name": "stdout",
     "output_type": "stream",
     "text": [
      "Collecting ann_visualizer\n",
      "  Downloading ann_visualizer-2.5.tar.gz (4.7 kB)\n",
      "  Preparing metadata (setup.py): started\n",
      "  Preparing metadata (setup.py): finished with status 'done'\n",
      "Building wheels for collected packages: ann_visualizer\n",
      "  Building wheel for ann_visualizer (setup.py): started\n",
      "  Building wheel for ann_visualizer (setup.py): finished with status 'done'\n",
      "  Created wheel for ann_visualizer: filename=ann_visualizer-2.5-py3-none-any.whl size=4183 sha256=dd3b0ef5eb43d102bd0ec118bef373132a7bd638ad4dd977e4e9b4e07886baa2\n",
      "  Stored in directory: c:\\users\\kkama\\appdata\\local\\pip\\cache\\wheels\\28\\4a\\ad\\e82da1aad2994e42bf0f4b1d403fdd8a64dfc38ae2c8a5daa4\n",
      "Successfully built ann_visualizer\n",
      "Installing collected packages: ann_visualizer\n",
      "Successfully installed ann_visualizer-2.5\n"
     ]
    },
    {
     "name": "stderr",
     "output_type": "stream",
     "text": [
      "\n",
      "[notice] A new release of pip is available: 23.1.2 -> 23.2.1\n",
      "[notice] To update, run: python.exe -m pip install --upgrade pip\n"
     ]
    }
   ],
   "source": [
    "# ANN visualizer\n",
    "!pip install visualkeras\n",
    "!pip install ann_visualizer\n",
    "# ANN Visualizer\n",
    "# Visual Keras\n",
    "# Keras Model Plot\n",
    "# Tensor Board"
   ]
  },
  {
   "cell_type": "code",
   "execution_count": 14,
   "metadata": {},
   "outputs": [
    {
     "name": "stdout",
     "output_type": "stream",
     "text": [
      "^C\n"
     ]
    }
   ],
   "source": [
    "!tensorboard --logdir=logs/"
   ]
  },
  {
   "cell_type": "code",
   "execution_count": 15,
   "metadata": {},
   "outputs": [
    {
     "name": "stderr",
     "output_type": "stream",
     "text": [
      "UsageError: Line magic function `%tensorboard` not found.\n"
     ]
    }
   ],
   "source": [
    "%tensorboard --logdir logs"
   ]
  },
  {
   "cell_type": "code",
   "execution_count": 7,
   "metadata": {},
   "outputs": [
    {
     "name": "stdout",
     "output_type": "stream",
     "text": [
      "Requirement already satisfied: pydot in c:\\users\\kkama\\.virtualenvs\\lift-zfcko8hq\\lib\\site-packages (1.4.2)\n",
      "Requirement already satisfied: pyparsing>=2.1.4 in c:\\users\\kkama\\.virtualenvs\\lift-zfcko8hq\\lib\\site-packages (from pydot) (3.0.9)\n"
     ]
    },
    {
     "name": "stderr",
     "output_type": "stream",
     "text": [
      "\n",
      "[notice] A new release of pip is available: 23.1.2 -> 23.2.1\n",
      "[notice] To update, run: python.exe -m pip install --upgrade pip\n"
     ]
    },
    {
     "name": "stdout",
     "output_type": "stream",
     "text": [
      "Requirement already satisfied: graphviz in c:\\users\\kkama\\.virtualenvs\\lift-zfcko8hq\\lib\\site-packages (0.20.1)\n"
     ]
    },
    {
     "name": "stderr",
     "output_type": "stream",
     "text": [
      "\n",
      "[notice] A new release of pip is available: 23.1.2 -> 23.2.1\n",
      "[notice] To update, run: python.exe -m pip install --upgrade pip\n"
     ]
    }
   ],
   "source": [
    "\n",
    "!pip install pydot\n",
    "!pip install graphviz"
   ]
  },
  {
   "cell_type": "code",
   "execution_count": 8,
   "metadata": {},
   "outputs": [
    {
     "data": {
      "image/png": "[encoded data removed]",
      "text/plain": [
       "<IPython.core.display.Image object>"
      ]
     },
     "execution_count": 8,
     "metadata": {},
     "output_type": "execute_result"
    }
   ],
   "source": [
    "from tensorflow.keras.utils import plot_model\n",
    "model_file = 'model_plot.png'\n",
    "plot_model(model, to_file=model_file, show_shapes=True, show_layer_names=True)"
   ]
  },
  {
   "cell_type": "code",
   "execution_count": 9,
   "metadata": {},
   "outputs": [
    {
     "name": "stdout",
     "output_type": "stream",
     "text": [
      "1/1 [==============================] - 0s 303ms/step - loss: 0.4758 - accuracy: 0.7391\n"
     ]
    }
   ],
   "source": [
    "loss,accuracy = model.evaluate(x_test,y_test)"
   ]
  },
  {
   "cell_type": "code",
   "execution_count": 10,
   "metadata": {},
   "outputs": [
    {
     "name": "stdout",
     "output_type": "stream",
     "text": [
      "1/1 [==============================] - 0s 161ms/step\n",
      "[[0.86379886 0.09044024 0.04576089]\n",
      " [0.01573067 0.9289779  0.05529144]]\n"
     ]
    }
   ],
   "source": [
    "test1 = [[5.2,3.1,1.4,0.2,],\n",
    "         [6.2,2.1,4.3,1.3]]\n",
    "\n",
    "scaled_test = scaler.transform(test1)\n",
    "predictions = model.predict(scaled_test)\n",
    "print(predictions)"
   ]
  },
  {
   "cell_type": "code",
   "execution_count": 11,
   "metadata": {},
   "outputs": [
    {
     "name": "stdout",
     "output_type": "stream",
     "text": [
      "['setosa' 'versicolor' 'virginica']\n"
     ]
    },
    {
     "data": {
      "text/plain": [
       "['setosa', 'versicolor']"
      ]
     },
     "execution_count": 11,
     "metadata": {},
     "output_type": "execute_result"
    }
   ],
   "source": [
    "class_names = iris.target_names\n",
    "print(class_names)\n",
    "[class_names[prediction.argmax()] for prediction in predictions]"
   ]
  },
  {
   "cell_type": "code",
   "execution_count": 12,
   "metadata": {},
   "outputs": [
    {
     "data": {
      "text/plain": [
       "[0, 1]"
      ]
     },
     "execution_count": 12,
     "metadata": {},
     "output_type": "execute_result"
    }
   ],
   "source": [
    "[i.argmax() for i in predictions]"
   ]
  },
  {
   "cell_type": "code",
   "execution_count": null,
   "metadata": {},
   "outputs": [],
   "source": []
  }
 ],
 "metadata": {
  "kernelspec": {
   "display_name": "LIFT-ZfCkO8hQ",
   "language": "python",
   "name": "python3"
  },
  "language_info": {
   "codemirror_mode": {
    "name": "ipython",
    "version": 3
   },
   "file_extension": ".py",
   "mimetype": "text/x-python",
   "name": "python",
   "nbconvert_exporter": "python",
   "pygments_lexer": "ipython3",
   "version": "3.11.4"
  },
  "orig_nbformat": 4
 },
 "nbformat": 4,
 "nbformat_minor": 2
}
