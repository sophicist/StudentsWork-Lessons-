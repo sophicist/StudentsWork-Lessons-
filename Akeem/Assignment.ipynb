{
 "cells": [
  {
   "cell_type": "code",
   "execution_count": 3,
   "metadata": {},
   "outputs": [
    {
     "name": "stdout",
     "output_type": "stream",
     "text": [
      "fish beans oil cream maggi nail cutter tomato bread\n",
      "[198, 48, 550, 1000, 250, 300, 300, 450]\n",
      "3591.36\n",
      "------------------------------------------------------------\n",
      "Akeems Supermarket\n",
      "------------------------------------------------------------\n",
      "------------------------------------------------------------\n",
      "fish 198\n",
      "beans 48\n",
      "oil 550\n",
      "cream 1000\n",
      "maggi 250\n",
      "nail cutter 300\n",
      "tomato 300\n",
      "bread 450\n",
      "------------------------------------------------------------\n",
      "VAT: 495.36\n",
      "------------------------------------------------------------\n",
      "TOTAL: 3591.36\n",
      "------------------------------------------------------------\n"
     ]
    }
   ],
   "source": [
    "# dictionaries\n",
    "\n",
    "# create a dictionary with shopping items (20) - call supermarket\n",
    "spmkt = {\"sugar\":435, \"beans\":48, \"bread\":450, \"tomato\":300, \"groundnut\":50, \"fish\":198, \"oil\":550, \"cream\":1000, \"nail cutter\":300, \"maggi\":250, \"pepper\":200, \"onion\":80, \"battery\":150, \"flash light\":420, \"beef\":300, \"milk\":220, \"butter\":440, \"curtains\":1290, \"bulb\":90, \"wrist watch\":2000}\n",
    "# create a list of groceries list with 8 items\n",
    "grocery = [\"fish\",\"beans\",\"oil\",\"cream\",\"maggi\",\"nail cutter\",\"tomato\",\"bread\"]\n",
    "\n",
    "\n",
    "#  for each item in grocery list extract the price from the supermarket\n",
    "item1 = grocery[0]\n",
    "item2 = grocery[1]\n",
    "item3 = grocery[2]\n",
    "item4 = grocery[3]\n",
    "item5 = grocery[4]\n",
    "item6 = grocery[5]\n",
    "item7 = grocery[6]\n",
    "item8 = grocery[7]\n",
    "\n",
    "print(item1,item2,item3,item4,item5,item6,item7,item8)\n",
    "\n",
    "prices = [spmkt[item1],spmkt[item2],spmkt[item3],spmkt[item4],spmkt[item5],spmkt[item6],spmkt[item7],spmkt[item8]]\n",
    "print(prices)\n",
    "total_cost= sum(prices)\n",
    "VAT= 0.16 * total_cost\n",
    "total= total_cost + VAT\n",
    "print(total)\n",
    "# print the item and the price\n",
    "# create a list of only the prices\n",
    "# create the sum of the prices\n",
    "# create a  receipt based on your grocery list\n",
    "\n",
    "print(\"--\"*30)\n",
    "print(\"Akeems Supermarket\")\n",
    "print(\"--\"*30)\n",
    "print(\"--\"*30)\n",
    "print(item1,prices[0])\n",
    "print(item2,prices[1])\n",
    "print(item3,prices[2])\n",
    "print(item4,prices[3])\n",
    "print(item5,prices[4])\n",
    "print(item6,prices[5])\n",
    "print(item7,prices[6])\n",
    "print(item8,prices[7])\n",
    "print(\"--\"*30)\n",
    "print(\"VAT:\",VAT)\n",
    "print(\"--\"*30)\n",
    "print(\"TOTAL:\",total)\n",
    "print(\"--\"*30)\n",
    "# include VAT -  16% if the total\n"
   ]
  },
  {
   "attachments": {},
   "cell_type": "markdown",
   "metadata": {},
   "source": [
    "#sets"
   ]
  },
  {
   "cell_type": "code",
   "execution_count": 5,
   "metadata": {},
   "outputs": [
    {
     "name": "stdout",
     "output_type": "stream",
     "text": [
      "{'mango', 'banana', 'peach', 'orange'}\n"
     ]
    }
   ],
   "source": [
    "fruit = {\"mango\", \"banana\", \"orange\"}\n",
    "fruit.add(\"peach\")\n",
    "print (fruit)"
   ]
  },
  {
   "cell_type": "code",
   "execution_count": 7,
   "metadata": {},
   "outputs": [
    {
     "name": "stdout",
     "output_type": "stream",
     "text": [
      "{'mango'}\n"
     ]
    }
   ],
   "source": [
    "fruit = {\"mango\", \"banana\", \"orange\"}\n",
    "food = {\"bread\", \"mango\", \"pineaple\"}\n",
    "breakfast = fruit.intersection(food)\n",
    "print (breakfast)"
   ]
  },
  {
   "cell_type": "code",
   "execution_count": 8,
   "metadata": {},
   "outputs": [
    {
     "name": "stdout",
     "output_type": "stream",
     "text": [
      "{'bread', 'orange', 'mango', 'pineaple', 'banana'}\n"
     ]
    }
   ],
   "source": [
    "fruit = {\"mango\", \"banana\", \"orange\"}\n",
    "food = {\"bread\", \"mango\", \"pineaple\"}\n",
    "kitchen_supply = fruit.union(food)\n",
    "print (kitchen_supply)"
   ]
  },
  {
   "cell_type": "code",
   "execution_count": 9,
   "metadata": {},
   "outputs": [
    {
     "name": "stdout",
     "output_type": "stream",
     "text": [
      "True\n"
     ]
    }
   ],
   "source": [
    "fruit = {\"mango\", \"banana\", \"orange\"}\n",
    "print(\"mango\" in fruit)"
   ]
  },
  {
   "cell_type": "code",
   "execution_count": 10,
   "metadata": {},
   "outputs": [
    {
     "name": "stdout",
     "output_type": "stream",
     "text": [
      "False\n"
     ]
    }
   ],
   "source": [
    "fruit = {\"mango\", \"banana\", \"orange\"}\n",
    "print(\"apple\" in fruit)"
   ]
  },
  {
   "cell_type": "code",
   "execution_count": 13,
   "metadata": {},
   "outputs": [
    {
     "name": "stdout",
     "output_type": "stream",
     "text": [
      "True\n"
     ]
    }
   ],
   "source": [
    "fruit = {\"mango\", \"banana\", \"orange\"}\n",
    "print(\"apple\" not in fruit)"
   ]
  },
  {
   "cell_type": "code",
   "execution_count": 15,
   "metadata": {},
   "outputs": [
    {
     "name": "stdout",
     "output_type": "stream",
     "text": [
      "Requirement already satisfied: pandas in /Users/raj/opt/anaconda3/lib/python3.9/site-packages (1.4.2)\n",
      "Requirement already satisfied: python-dateutil>=2.8.1 in /Users/raj/opt/anaconda3/lib/python3.9/site-packages (from pandas) (2.8.2)\n",
      "Requirement already satisfied: pytz>=2020.1 in /Users/raj/opt/anaconda3/lib/python3.9/site-packages (from pandas) (2021.3)\n",
      "Requirement already satisfied: numpy>=1.18.5 in /Users/raj/opt/anaconda3/lib/python3.9/site-packages (from pandas) (1.21.5)\n",
      "Requirement already satisfied: six>=1.5 in /Users/raj/opt/anaconda3/lib/python3.9/site-packages (from python-dateutil>=2.8.1->pandas) (1.16.0)\n"
     ]
    }
   ],
   "source": [
    "!pip install pandas"
   ]
  },
  {
   "cell_type": "code",
   "execution_count": 16,
   "metadata": {},
   "outputs": [
    {
     "name": "stdout",
     "output_type": "stream",
     "text": [
      "Requirement already satisfied: numpy in /Users/raj/opt/anaconda3/lib/python3.9/site-packages (1.21.5)\n"
     ]
    }
   ],
   "source": [
    "!pip install numpy"
   ]
  },
  {
   "cell_type": "code",
   "execution_count": 21,
   "metadata": {},
   "outputs": [
    {
     "name": "stdout",
     "output_type": "stream",
     "text": [
      "100000\n",
      "316.22776601683796\n",
      "12\n"
     ]
    }
   ],
   "source": [
    "#operators\n",
    "x = 10\n",
    "y = 5\n",
    "z = 7\n",
    "a = x **y\n",
    "b = a **0.5\n",
    "c = y + z\n",
    "print (a)\n",
    "print (b)\n",
    "print (c)"
   ]
  },
  {
   "cell_type": "code",
   "execution_count": 17,
   "metadata": {},
   "outputs": [
    {
     "data": {
      "text/plain": [
       "False"
      ]
     },
     "execution_count": 17,
     "metadata": {},
     "output_type": "execute_result"
    }
   ],
   "source": [
    "#Boolean\n",
    "2 > 5"
   ]
  },
  {
   "cell_type": "code",
   "execution_count": 28,
   "metadata": {},
   "outputs": [
    {
     "ename": "NameError",
     "evalue": "name 'wight' is not defined",
     "output_type": "error",
     "traceback": [
      "\u001b[0;31m---------------------------------------------------------------------------\u001b[0m",
      "\u001b[0;31mNameError\u001b[0m                                 Traceback (most recent call last)",
      "Cell \u001b[0;32mIn[28], line 4\u001b[0m\n\u001b[1;32m      2\u001b[0m weight \u001b[39m=\u001b[39m [\u001b[39m6\u001b[39m, \u001b[39m12\u001b[39m, \u001b[39m18\u001b[39m]\n\u001b[1;32m      3\u001b[0m \u001b[39m#bmi\u001b[39;00m\n\u001b[0;32m----> 4\u001b[0m \u001b[39mfor\u001b[39;00m hgt,wgt \u001b[39min\u001b[39;00m \u001b[39mzip\u001b[39m[height,wight]:\n\u001b[1;32m      5\u001b[0m     \u001b[39mprint\u001b[39m(wgt\u001b[39m/\u001b[39mhgt\u001b[39m*\u001b[39m\u001b[39m*\u001b[39m\u001b[39m2\u001b[39m)\n",
      "\u001b[0;31mNameError\u001b[0m: name 'wight' is not defined"
     ]
    }
   ],
   "source": [
    "height = [2, 4, 6]\n",
    "weight = [6, 12, 18]\n",
    "#bmi\n",
    "for hgt,wgt in zip[height,wight]:\n",
    "    print(wgt/hgt**2)"
   ]
  }
 ],
 "metadata": {
  "kernelspec": {
   "display_name": "Python 3",
   "language": "python",
   "name": "python3"
  },
  "language_info": {
   "codemirror_mode": {
    "name": "ipython",
    "version": 3
   },
   "file_extension": ".py",
   "mimetype": "text/x-python",
   "name": "python",
   "nbconvert_exporter": "python",
   "pygments_lexer": "ipython3",
   "version": "3.11.1"
  },
  "orig_nbformat": 4
 },
 "nbformat": 4,
 "nbformat_minor": 2
}
